{
  "nbformat": 4,
  "nbformat_minor": 0,
  "metadata": {
    "colab": {
      "name": "MIS_382N_HW1_final_written.ipynb",
      "provenance": [],
      "collapsed_sections": []
    },
    "kernelspec": {
      "display_name": "Python 3",
      "language": "python",
      "name": "python3"
    },
    "language_info": {
      "codemirror_mode": {
        "name": "ipython",
        "version": 3
      },
      "file_extension": ".py",
      "mimetype": "text/x-python",
      "name": "python",
      "nbconvert_exporter": "python",
      "pygments_lexer": "ipython3",
      "version": "3.8.8"
    },
    "accelerator": "GPU"
  },
  "cells": [
    {
      "cell_type": "markdown",
      "metadata": {
        "id": "dM4PU5ZpSKDH"
      },
      "source": [
        "ADVANCED MACHINE LEARNING - Homework 1\n",
        "\n",
        "**SHUBHAM SINGH, ss96589**\n",
        "\n",
        "**SOUMIK CHOUDHURI, sc64856**"
      ]
    },
    {
      "cell_type": "markdown",
      "metadata": {
        "id": "evHVxwk2JA-3"
      },
      "source": [
        "# <p style=\"text-align: center;\">MIS 382N: Advanced Machine Learning</p>\n",
        "# <p style=\"text-align: center;\">Homework 1</p>\n",
        "## <p style=\"text-align: center;\">Total points: 55</p>\n",
        "## <p style=\"text-align: center;\">Due: Wednesday, Sep 8 submitted via Canvas by 11:59 pm</p>\n",
        "\n",
        "Your homework should be written in a **Jupyter notebook**. Please make sure your code runs and the graphics (and anything else) are displayed in your notebook before submitting (%matplotlib inline). **This can be an individual assignment or group of 2. If you choose to do it as a group, please specify who you are working with (name and EID), then only one student should submit the homework.**\n",
        "\n",
        "**Note: Notebooks MUST have the images embedded in them. There will be no regrades if attached images do not render in the notebook. Please re download from canvas after submission and make sure all attached images render without errors. (Hint: Image module from IPython.display)**"
      ]
    },
    {
      "cell_type": "code",
      "metadata": {
        "id": "0eTfjKUv7_Yo"
      },
      "source": [
        ""
      ],
      "execution_count": null,
      "outputs": []
    },
    {
      "cell_type": "markdown",
      "metadata": {
        "id": "TWWU_gOSLEEv"
      },
      "source": [
        "# Question 1: MLOps (10 pts)\n",
        "Read this [article](https://towardsdatascience.com/what-is-mlops-everything-you-must-know-to-get-started-523f2d0b8bd8) \"What is MLOps — Everything You Must Know to Get Started\", which gives a quick walkthrough of the machine learning development lifecycle and explains how MLOps come into play, or watch this [video](https://www.youtube.com/watch?v=06-AZXmwHjo) which you may find interesting.\n",
        "\n",
        "1. (**4 pts**) Use your own words to describe what MLOps is, and what challenges MLOps address. Limit your answer to one paragraph.\n",
        "\n",
        "2. (**6 pts**) Describe what the main phases in MLOps are. Your answer should be 2-3 paragraphs.\n",
        "\n",
        "\n",
        "## Ans 1.1) \n",
        "\n",
        "MLOPS refers to the **combination of processes that helps in carrying out controlled machine learning-based experiments**. It integrates different sequential and/or parallel steps, associated with the objectives of one’s ML experiment. It clearly defines the requirement and end results of each separate segment involved in the process, thus **simplifying the exchange of information**. MLOPS standardizes the flow of the whole experiment, thus properly streamlining the execution and transfer of information and data. Additionally, it establishes a system to properly log changes at any step.\n",
        "For example, precise and concise information related to datatype is shared with the acquisition, processing, and model experimentation-based teams. So that there is no inconsistency in the description of objective or loss of information between teams. Another example can be defining standard metrics for multiple experiments implemented during model preparation and post-model deployment. This helps in executing consistent and opposite comparative analysis of models. In addition to this, these standards can help in the proper monitoring of one’s deployed model.\n",
        "\n",
        "## Ans 1.2) Different phases of MLOPS\n",
        "\n",
        "The first two objectives of the MLOPS are associated with **defining the objective and creating the architecture of the problem**. The defining part is related to determining the objective of the overall problem. This includes clearly describing the type of problem that one wishes to solve and involves both determining and describing the target variable of our experiment. In addition to this one is also expected to define some metrics and/or indicators on the basis of which we will evaluate our achievability of the objective. The following architecture phase involves determining the type and source of data that one will work on. This includes constructing multiple pipelines and/or APIs for collecting data. Additionally, multiple checks and assertions need to be constructed to verify the integrity of the data. The segregation of training and testing pipelines is at times performed in this part of the flow. Also, preliminary brainstorming on what types of model one wishes to construct in order to solve the provided objective is performed in this phase.\n",
        "\n",
        "The next two phases are associated with **data processing and model experimentation**. Data processing is the factory step of one’s process flow. It starts with determining the features that one expects to use in his/her model. Subsequently, it involves preprocessing, cleaning steps followed by building and assembling transformers that help in determining our target variables.At times, the formulation of predictors and target pipelines is performed at this step.This stage of the flow also deals with devising a channel that helps inflow raw data from the source to the feature transformer and model-based pipelines. Till this point, one has defined pipelines for our predictors and target. Additionally, the model, type and structure, have been determined for target analysis purposes. The next model experimentation stage involves combining these predators, targets, and models together and running series of experimentation. The scores, associated with multiple predefined metrics, of these experiments are documented for comparative analysis purposes. The variability of the experiments includes the change in data types and at times change in the version of models being used. A proper, efficient in retrieving data and performing assertion, acquisition to processing channel can help solve data variability-related issues. Tagging of versions of the models and dependencies with experiment modules can help solve version associated issues.\n",
        "\n",
        "The final three phases of the MLOPS deals with **automating the pipeline, deployment of the model, and monitoring changes**. Automating pipelines step included streamlining all the steps of one’s MLops. This is where one nut and bolts every part of our model. Following the parallel and sequential steps of our models are assembled and implemented. Then one needs to track/check the repeatability and reproducibility of our pipeline results. This entails a clear definition of system requirements, what libraries and dependencies are associated with our experiment. In addition to this, one needs to determine the characteristics of the data source, whether it is on-prem or cloud-based, is it single-channel or multi-channel in types, etc. Next, the deployment step is associated with determining a strategy for sharing the experimentation module for utility purposes. We can either opt for sharing the entire module as a package or put forward it as a dynamic API for future usage. Finally, the monitoring step involves tracing the performance of the deployed model. This includes verifying the performance of the deployed model with time, as well as checking for system-related issues in order to update and improve our models.\n"
      ]
    },
    {
      "cell_type": "markdown",
      "metadata": {
        "id": "wusA9L1LmUMH"
      },
      "source": [
        "# Question 2: Applications of Machine Learning (5 pts)\n",
        "Read this [article](https://builtin.com/data-science/data-science-applications-examples) \"17 Data Science Applications & Examples\" and pick one of the data science systems used by various organizations according to this blog. \n",
        "\n",
        "For this system you have chosen, answer the following questions. Please limit your answer to one paragraph:\n",
        "\n",
        "1. What kind of machine learning problem is involved (e.g. classification, regression, clustering, outlier detection,...) in this system?\n",
        "2. Speculate on what kind of data may be needed and how the results can be useful to the organization.\n",
        "3. What do you think are the ethical implications of using machine learning in a domain like this?\n",
        "\n",
        "## Ans 2.1)\n",
        "\n",
        "The data science application we have chosen is that of Internal Revenue Service of the US federal government. The IRS has modernized the fraud detection protocols in recent times. The IRS collects data of tax payers and constructs multidimensional profiles based on the analysis of their data. The machine learning problem mainly involves **classifying** them as defaulter or non-defaulter based on tax payment predictions and accordingly flagging them by the IRS.\n",
        "\n",
        "\n",
        "\n",
        "## Ans 2.2)\n",
        "\n",
        "The IRS relies on a spectrum of data of the **tax payers** for classifying them into defaulters or non-defaulters. In recent years, IRS has expanded its data gathering program. It monitor **phone traffic**, through the purchase of Stringray phone tracking technology; emails, through Electronic Communications Privacy Act court orders that permit auditors to **read emails** from private accounts; and publicly available **social media**. It analyses social media data from Facebook; **past tax filings** of the tax payer and other **electronic payments** based on their Social Security Number. These data help them model detailed profile of taxpayers and predict deviations from expected behaviours beforehand. These help them identify defaulters and issue audits.\n",
        "\n",
        "\n",
        "## Ans 2.3)\n",
        "\n",
        "There are a few ethical implications of this type of data collection. Firstly, the legal basis for these expansions of data gathering are poorly covered under current regulations. There are only a few outdated laws governing the ability of IRS to **collect third-party information on taxpayers**. With time, there has been a rapid growth of the means of tracking data by IRS. So, the IRS is not under a legal obligation to share the data collected with public. Also, all the internet data might not be correct about an user and taxpayers cannot review the information stored about them to correct mistakes. Lastly, data security is another big issue. Access to IRS data would be the access to a full repository of every taxpayer’s details and a security breach can cause massive damage to the citizens."
      ]
    },
    {
      "cell_type": "markdown",
      "metadata": {
        "id": "2w8za9lLmVO7"
      },
      "source": [
        "# Question 3: Simpson's Paradox (10 pts)\n",
        "A data scientist should be careful about drawing unwarranted conclusions about any data that is presented. One of the 'gotchas' that can happen even in apparently very simple tabular summaries, is called Simpson's paradox.\n",
        "\n",
        "Read this [article](https://www.covid-datascience.com/post/israeli-data-how-can-efficacy-vs-severe-disease-be-strong-when-60-of-hospitalized-are-vaccinated), which explains why the computed efficacy of the Pfizer vaccine is misleadingly low (67.5%) when you lump all people together, but once you stratify people by age (which is the right thing to do), you get much higher efficacy numbers.\n",
        "\n",
        "1.(**5 pts**) Explain in your own words what Simpson's paradox is, and how this 'paradox' can happen in real data.\n",
        "\n",
        "2.(**5 pts**) Find and mention another example of Simpson's paradox (but not any of the 3 examples given in the Wikipedia entry for 'Simpson's paradox'), state why the paradox appeared in your chosen example. Also give a reference (URL) to your source for the chosen example.\n",
        "\n",
        "## Ans 3.1)\n",
        "\n",
        "The Simpson paradox mentions that the **statistics for a population can be different from the statistics of individual parts/groups/samples within a population**. This phenomenon can be attributed to the presence of some third variable that acts as a confounding parameter. The confounding parameter is independently related with both assumed target and predictor variables and this dual interaction creates a false assumption of the observed predictor being associated with the target variable.\n",
        "In the article, it seems that the vaccination rate is directly related to severe disease rates, but it is because of the confounding age-related variable. Vaccination rates are higher in older people, additionally, older people are more susceptible to severe diseases.\n",
        "\n",
        "Interaction of confounding variables with the experimented target and predictor variables can lead to misinterpretations. Cursory/Superficial observational analysis can skip over the presence of confounding variables and lead to the propagation of misleading information. Like questioning the efficacy of vaccines in this presented case on the basis of simple observational analysis.\n",
        "\n",
        "Proper controlled experiments need to be devised in order to strike out the influence of confounding interactive terms. One needs to make sure that all other participating variables are held constant for determining the association between x and y variables that are under examination/consideration.\n",
        "\n",
        "\n",
        "\n",
        "## Ans 3.2)\n",
        "\n",
        "A cursory/supeficial analysis of the mortality rate data with the smoking rate data suggests that there is a presence of a negative trend between the two variables. Against the common presumption, the data reveals that the death rate is higher in the non-smoking population.\n",
        "\n",
        "However, a detailed study reveals the presence of a confounding variable, age, that influences the aforementioned observation.\n",
        "Age has a positive correlation with mortality rate, whereas has a negative correlation with smoking rate.\n",
        "Thus when read holistically, on the entire population, the smoking rate (true for smokers and false for non-smokers) demonstrates a negative trend with mortality rate. However, when a controlled study is performed, where the observer holds the confounding variable,age, as constant, one can notice a positive relationship between smoking and mortality rates.\n",
        "\n",
        "\n",
        "Link of the article- https://zzhu17.medium.com/the-so-called-simpsons-paradox-6d0efdca6fdc\n",
        "\n"
      ]
    },
    {
      "cell_type": "markdown",
      "metadata": {
        "id": "gth0D8jiMBSe"
      },
      "source": [
        "# Question 4: Ridge and Lasso Regression (30 pts)\n",
        "\n",
        "Download the dataset **Admission.csv** from Canvas and use the following codes to import the Admission dataset in Python. \n",
        "\n",
        "There are 7 features in the dataset:\n",
        "\n",
        "1. GRE score\n",
        "2. TOEFL score\n",
        "3. University Rating\n",
        "4. SOP(Statement of Purpose)\n",
        "5. LOR(Letter of Recommendation)\n",
        "6. CGPA\n",
        "7. Research\n",
        "\n",
        "And the target is **Chance of Admission**."
      ]
    },
    {
      "cell_type": "code",
      "metadata": {
        "colab": {
          "resources": {
            "http://localhost:8080/nbextensions/google.colab/files.js": {
              "data": "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",
              "ok": true,
              "headers": [
                [
                  "content-type",
                  "application/javascript"
                ]
              ],
              "status": 200,
              "status_text": ""
            }
          },
          "base_uri": "https://localhost:8080/",
          "height": 73
        },
        "id": "QFazlpLgGpAa",
        "outputId": "365153dc-1594-43a4-a608-77aa0771b67c"
      },
      "source": [
        "# Only use this code block if you are using Google Colab.\n",
        "# If you are using Jupyter Notebook, please ignore this code block. You can directly upload the file to your Jupyter Notebook file systems.\n",
        "from google.colab import files\n",
        "\n",
        "## It will prompt you to select a local file. Click on “Choose Files” then select and upload the file. \n",
        "## Wait for the file to be 100% uploaded. You should see the name of the file once Colab has uploaded it.\n",
        "uploaded = files.upload()"
      ],
      "execution_count": 1,
      "outputs": [
        {
          "output_type": "display_data",
          "data": {
            "text/html": [
              "\n",
              "     <input type=\"file\" id=\"files-ffbb406c-12e0-4822-8b25-8d7908a87a0b\" name=\"files[]\" multiple disabled\n",
              "        style=\"border:none\" />\n",
              "     <output id=\"result-ffbb406c-12e0-4822-8b25-8d7908a87a0b\">\n",
              "      Upload widget is only available when the cell has been executed in the\n",
              "      current browser session. Please rerun this cell to enable.\n",
              "      </output>\n",
              "      <script src=\"/nbextensions/google.colab/files.js\"></script> "
            ],
            "text/plain": [
              "<IPython.core.display.HTML object>"
            ]
          },
          "metadata": {}
        },
        {
          "output_type": "stream",
          "name": "stdout",
          "text": [
            "Saving Admission.csv to Admission.csv\n"
          ]
        }
      ]
    },
    {
      "cell_type": "code",
      "metadata": {
        "id": "xsPaOOehGuU6"
      },
      "source": [
        "# Codes below will work for both Google Colab and Jupyter Notebook.\n",
        "import numpy as np\n",
        "import pandas as pd\n",
        "import random\n",
        "from sklearn import linear_model\n",
        "from sklearn.metrics import mean_absolute_error, mean_squared_error\n",
        "from sklearn.linear_model import LogisticRegression\n",
        "\n",
        "## Load the dataset into pandas DataFrame\n",
        "df = pd.read_csv('Admission.csv', index_col=0)\n",
        "df = df.replace([np.inf, -np.inf], np.nan) # \n",
        "df = df.fillna(0) # Replace all the NaN values with 0"
      ],
      "execution_count": 2,
      "outputs": []
    },
    {
      "cell_type": "code",
      "metadata": {
        "colab": {
          "base_uri": "https://localhost:8080/"
        },
        "id": "PmMz72U6Gv-z",
        "outputId": "7d4db618-b375-4056-9fa6-8d5a8d5eaab7"
      },
      "source": [
        "df.columns # Show you all the columns in this file"
      ],
      "execution_count": 3,
      "outputs": [
        {
          "output_type": "execute_result",
          "data": {
            "text/plain": [
              "Index(['GRE_Score', 'TOEFL_Score', 'University_Rating', 'SOP', 'LOR ', 'CGPA',\n",
              "       'Research', 'Chance_of_Admit'],\n",
              "      dtype='object')"
            ]
          },
          "metadata": {},
          "execution_count": 3
        }
      ]
    },
    {
      "cell_type": "code",
      "metadata": {
        "colab": {
          "base_uri": "https://localhost:8080/",
          "height": 234
        },
        "id": "CyZN-yFfGxlt",
        "outputId": "3226e10f-dd80-403e-b536-8aa794813d43"
      },
      "source": [
        "df.head() # Show you the first 5 rows in this file"
      ],
      "execution_count": 4,
      "outputs": [
        {
          "output_type": "execute_result",
          "data": {
            "text/html": [
              "<div>\n",
              "<style scoped>\n",
              "    .dataframe tbody tr th:only-of-type {\n",
              "        vertical-align: middle;\n",
              "    }\n",
              "\n",
              "    .dataframe tbody tr th {\n",
              "        vertical-align: top;\n",
              "    }\n",
              "\n",
              "    .dataframe thead th {\n",
              "        text-align: right;\n",
              "    }\n",
              "</style>\n",
              "<table border=\"1\" class=\"dataframe\">\n",
              "  <thead>\n",
              "    <tr style=\"text-align: right;\">\n",
              "      <th></th>\n",
              "      <th>GRE_Score</th>\n",
              "      <th>TOEFL_Score</th>\n",
              "      <th>University_Rating</th>\n",
              "      <th>SOP</th>\n",
              "      <th>LOR</th>\n",
              "      <th>CGPA</th>\n",
              "      <th>Research</th>\n",
              "      <th>Chance_of_Admit</th>\n",
              "    </tr>\n",
              "    <tr>\n",
              "      <th>Serial No.</th>\n",
              "      <th></th>\n",
              "      <th></th>\n",
              "      <th></th>\n",
              "      <th></th>\n",
              "      <th></th>\n",
              "      <th></th>\n",
              "      <th></th>\n",
              "      <th></th>\n",
              "    </tr>\n",
              "  </thead>\n",
              "  <tbody>\n",
              "    <tr>\n",
              "      <th>1</th>\n",
              "      <td>337</td>\n",
              "      <td>118</td>\n",
              "      <td>4</td>\n",
              "      <td>4.5</td>\n",
              "      <td>4.5</td>\n",
              "      <td>9.65</td>\n",
              "      <td>1</td>\n",
              "      <td>0.92</td>\n",
              "    </tr>\n",
              "    <tr>\n",
              "      <th>2</th>\n",
              "      <td>324</td>\n",
              "      <td>107</td>\n",
              "      <td>4</td>\n",
              "      <td>4.0</td>\n",
              "      <td>4.5</td>\n",
              "      <td>8.87</td>\n",
              "      <td>1</td>\n",
              "      <td>0.76</td>\n",
              "    </tr>\n",
              "    <tr>\n",
              "      <th>3</th>\n",
              "      <td>316</td>\n",
              "      <td>104</td>\n",
              "      <td>3</td>\n",
              "      <td>3.0</td>\n",
              "      <td>3.5</td>\n",
              "      <td>8.00</td>\n",
              "      <td>1</td>\n",
              "      <td>0.72</td>\n",
              "    </tr>\n",
              "    <tr>\n",
              "      <th>4</th>\n",
              "      <td>322</td>\n",
              "      <td>110</td>\n",
              "      <td>3</td>\n",
              "      <td>3.5</td>\n",
              "      <td>2.5</td>\n",
              "      <td>8.67</td>\n",
              "      <td>1</td>\n",
              "      <td>0.80</td>\n",
              "    </tr>\n",
              "    <tr>\n",
              "      <th>5</th>\n",
              "      <td>314</td>\n",
              "      <td>103</td>\n",
              "      <td>2</td>\n",
              "      <td>2.0</td>\n",
              "      <td>3.0</td>\n",
              "      <td>8.21</td>\n",
              "      <td>0</td>\n",
              "      <td>0.65</td>\n",
              "    </tr>\n",
              "  </tbody>\n",
              "</table>\n",
              "</div>"
            ],
            "text/plain": [
              "            GRE_Score  TOEFL_Score  ...  Research  Chance_of_Admit\n",
              "Serial No.                          ...                           \n",
              "1                 337          118  ...         1             0.92\n",
              "2                 324          107  ...         1             0.76\n",
              "3                 316          104  ...         1             0.72\n",
              "4                 322          110  ...         1             0.80\n",
              "5                 314          103  ...         0             0.65\n",
              "\n",
              "[5 rows x 8 columns]"
            ]
          },
          "metadata": {},
          "execution_count": 4
        }
      ]
    },
    {
      "cell_type": "code",
      "metadata": {
        "id": "S3TfR0i4G2rO"
      },
      "source": [
        "y = df['Chance_of_Admit'] # The column named Chance_of_Admit is used as the target, and we store it in y\n",
        "X = df.drop(['Chance_of_Admit'], axis=1) # We keep the remaining columns as the features, and store them in x"
      ],
      "execution_count": 5,
      "outputs": []
    },
    {
      "cell_type": "markdown",
      "metadata": {
        "id": "pKq1KERxJw9y"
      },
      "source": [
        "1)(**2 pts**) Split the data into a training set(75% of data) and a test set(25% of data), using the [train_test_split](https://scikit-learn.org/stable/modules/generated/sklearn.model_selection.train_test_split.html) function with random_state = 50. Then scale the data (not including target) so that each of the independent variables would have zero mean and unit variance. You can use the [sklearn.preprocessing.scale](https://scikit-learn.org/stable/modules/generated/sklearn.preprocessing.scale.html) function for this. Print the first 5 rows of the training set after scaling.\n",
        "\n",
        "2)(**5 pts**) Use [sklearn.linear_model.Lasso](https://scikit-learn.org/stable/modules/generated/sklearn.linear_model.Lasso.html) and [sklearn.linear_model.Ridge](https://scikit-learn.org/stable/modules/generated/sklearn.linear_model.Ridge.html) classes to do a **5-fold** cross validation using sklearn's KFold. For the sweep of the regularization parameter, we will look at a grid of values ranging from α=10^10 to α=10^−6. In Python, you can consider this range of values as follows: alpha = 10**numpy.linspace(6,-6,100) \n",
        "so that you can generate 100 uniform values between -6 to 6 as power series.\n",
        "\n",
        "Fit the 2 regression models with scaled data and report the best chosen **α** based on cross validation as well as the corresponding scoring metric. The cross validation should happen on your training data using **MSE** as the scoring metric.\n",
        "\n",
        "3)(**5 pts**) Run ridge and lasso regression for all of the **α** specified above (on training data), and plot the coefficients learned for each of them - there should be one plot each for lasso and ridge, so a total of two plots; different features' weights of each model should be on the same plot with different colors (3pts). \n",
        "\n",
        "What do you qualitatively observe when the value of the regularization parameter changes (2pts)? \n",
        "\n",
        "4)(**3 pts**) Take the exponential of Y_train as the target, and fit the 2 regression models again. Report the best chosen **α** based on cross validation as well as the corresponding scoring metric. Compare the results of using the original target with the results of using the exponential of the target. What do you observe? \n",
        "\n",
        "5)(**5 pts**) Similarly, use [sklearn.linear_model.ElasticNet](https://scikit-learn.org/stable/modules/generated/sklearn.linear_model.ElasticNet.html) to do linear regression with different **α** values, and plot the coefficients learned for each of them (2pts). Observe the plot, then explain the pros and cons of ridge, lasso and Elastic Net models (3pts).\n",
        "\n",
        "\n",
        "6)(**5 pts**) Run the following three regression models with **MSE** loss on the training data: \n",
        "\n",
        "a. linear regression without regularization (1pts)\n",
        "\n",
        "b. linear regression with ridge regularization (2pts)\n",
        "\n",
        "c. linear regression with lasso regularization (2pts)\n",
        "\n",
        "For part (b) and (c), use only the best regularization parameters. Report the MSE and R<sup>2</sup> on the test data for each model.\n",
        "\n",
        "7)(**5 pts**) Train the 3 models and report the metrics with the original data without scaling (3pts). \n",
        "\n",
        "Why do we need to scale the data before regularization (2pts)? \n",
        "\n",
        "## Answer:\n"
      ]
    },
    {
      "cell_type": "markdown",
      "metadata": {
        "id": "pdKagej_X3UF"
      },
      "source": [
        "## Answer 4.1)"
      ]
    },
    {
      "cell_type": "code",
      "metadata": {
        "id": "blInSVsiQDru"
      },
      "source": [
        "from sklearn.model_selection import train_test_split\n",
        "\n",
        "X_train, X_test,y_train,y_test=train_test_split(X,y,test_size=0.25,random_state=50)\n"
      ],
      "execution_count": 6,
      "outputs": []
    },
    {
      "cell_type": "code",
      "metadata": {
        "colab": {
          "base_uri": "https://localhost:8080/",
          "height": 234
        },
        "id": "NOPrF9k-QZzy",
        "outputId": "36829deb-96c0-4b24-9128-e4206837805d"
      },
      "source": [
        "from sklearn.preprocessing import scale\n",
        "from sklearn.preprocessing import StandardScaler \n",
        "\n",
        "scaler=StandardScaler()\n",
        "\n",
        "X_train_scaled=pd.DataFrame(scaler.fit_transform(X_train),\n",
        "                            columns=X_train.columns,index=X_train.index)\n",
        "\n",
        "# pd.concat([pd.DataFrame(scale(X_train)),X_train_scaled],axis=1)\n",
        "X_train_scaled.head()# centered around mean 0 and variance transformed to 1\n",
        "#X_train_scaled.describe().round(2)"
      ],
      "execution_count": 7,
      "outputs": [
        {
          "output_type": "execute_result",
          "data": {
            "text/html": [
              "<div>\n",
              "<style scoped>\n",
              "    .dataframe tbody tr th:only-of-type {\n",
              "        vertical-align: middle;\n",
              "    }\n",
              "\n",
              "    .dataframe tbody tr th {\n",
              "        vertical-align: top;\n",
              "    }\n",
              "\n",
              "    .dataframe thead th {\n",
              "        text-align: right;\n",
              "    }\n",
              "</style>\n",
              "<table border=\"1\" class=\"dataframe\">\n",
              "  <thead>\n",
              "    <tr style=\"text-align: right;\">\n",
              "      <th></th>\n",
              "      <th>GRE_Score</th>\n",
              "      <th>TOEFL_Score</th>\n",
              "      <th>University_Rating</th>\n",
              "      <th>SOP</th>\n",
              "      <th>LOR</th>\n",
              "      <th>CGPA</th>\n",
              "      <th>Research</th>\n",
              "    </tr>\n",
              "    <tr>\n",
              "      <th>Serial No.</th>\n",
              "      <th></th>\n",
              "      <th></th>\n",
              "      <th></th>\n",
              "      <th></th>\n",
              "      <th></th>\n",
              "      <th></th>\n",
              "      <th></th>\n",
              "    </tr>\n",
              "  </thead>\n",
              "  <tbody>\n",
              "    <tr>\n",
              "      <th>204</th>\n",
              "      <td>1.527254</td>\n",
              "      <td>2.091771</td>\n",
              "      <td>1.615944</td>\n",
              "      <td>0.631508</td>\n",
              "      <td>1.728291</td>\n",
              "      <td>2.113703</td>\n",
              "      <td>0.904534</td>\n",
              "    </tr>\n",
              "    <tr>\n",
              "      <th>265</th>\n",
              "      <td>0.741809</td>\n",
              "      <td>0.463089</td>\n",
              "      <td>-0.931078</td>\n",
              "      <td>-0.352660</td>\n",
              "      <td>-1.041406</td>\n",
              "      <td>0.294888</td>\n",
              "      <td>0.904534</td>\n",
              "    </tr>\n",
              "    <tr>\n",
              "      <th>339</th>\n",
              "      <td>0.567266</td>\n",
              "      <td>0.137352</td>\n",
              "      <td>1.615944</td>\n",
              "      <td>0.631508</td>\n",
              "      <td>0.620412</td>\n",
              "      <td>0.262117</td>\n",
              "      <td>0.904534</td>\n",
              "    </tr>\n",
              "    <tr>\n",
              "      <th>262</th>\n",
              "      <td>-0.392722</td>\n",
              "      <td>-0.514121</td>\n",
              "      <td>-0.082071</td>\n",
              "      <td>0.139424</td>\n",
              "      <td>0.620412</td>\n",
              "      <td>-0.802955</td>\n",
              "      <td>-1.105542</td>\n",
              "    </tr>\n",
              "    <tr>\n",
              "      <th>217</th>\n",
              "      <td>0.479994</td>\n",
              "      <td>0.788825</td>\n",
              "      <td>0.766936</td>\n",
              "      <td>1.123593</td>\n",
              "      <td>1.174352</td>\n",
              "      <td>1.114174</td>\n",
              "      <td>0.904534</td>\n",
              "    </tr>\n",
              "  </tbody>\n",
              "</table>\n",
              "</div>"
            ],
            "text/plain": [
              "            GRE_Score  TOEFL_Score  ...      CGPA  Research\n",
              "Serial No.                          ...                    \n",
              "204          1.527254     2.091771  ...  2.113703  0.904534\n",
              "265          0.741809     0.463089  ...  0.294888  0.904534\n",
              "339          0.567266     0.137352  ...  0.262117  0.904534\n",
              "262         -0.392722    -0.514121  ... -0.802955 -1.105542\n",
              "217          0.479994     0.788825  ...  1.114174  0.904534\n",
              "\n",
              "[5 rows x 7 columns]"
            ]
          },
          "metadata": {},
          "execution_count": 7
        }
      ]
    },
    {
      "cell_type": "markdown",
      "metadata": {
        "id": "1zeLI1YCY64R"
      },
      "source": [
        "## Ans 4.2)"
      ]
    },
    {
      "cell_type": "code",
      "metadata": {
        "id": "4zHMhPhuQwOu"
      },
      "source": [
        "import numpy as np\n",
        "\n",
        "from sklearn.model_selection import KFold\n",
        "from sklearn.linear_model import Ridge,Lasso\n",
        "\n",
        "model_ridge=Ridge(alpha=0.1)\n",
        "model_lasso=Lasso(alpha=0.1)\n",
        "\n",
        "def mse_score(a,b):\n",
        "  return np.mean((a-b)**2)\n",
        "\n",
        "def CV_5fold(model,metric,data=X_train_scaled,target=y_train):\n",
        "  '''\n",
        "  model=Fitter/model used for traing the data\n",
        "  metric= evaluator/scorer on whch the test scores are compared\n",
        "  data= data on which the splitter needs to work\n",
        "  return list of 5 scores computed using a provided metric\n",
        "  '''\n",
        "\n",
        "  splitter=KFold(n_splits=5,shuffle=True,random_state=50)\n",
        "  err=list()\n",
        "\n",
        "  for train_idx, test_idx in splitter.split(data):\n",
        "\n",
        "    x_T,x_t=data.iloc[train_idx,:],data.iloc[test_idx,:]\n",
        "    y_T,y_t=target.iloc[train_idx,],target.iloc[test_idx,]\n",
        "\n",
        "    model.fit(x_T,y_T)\n",
        "\n",
        "    pred=model.predict(x_t)\n",
        "\n",
        "    temp_err=metric(pred,y_t)\n",
        "    err.append(temp_err)\n",
        "\n",
        "  return err\n",
        "\n",
        "#Default Run for base ridge and lasso models\n",
        "#pd.DataFrame({'Ridge':CV_5fold(model_ridge,mse_score),\n",
        "#             'Lasso':CV_5fold(model_lasso,mse_score)})\n",
        "\n",
        "\n",
        "\n"
      ],
      "execution_count": 8,
      "outputs": []
    },
    {
      "cell_type": "code",
      "metadata": {
        "id": "zxq4age-XguU"
      },
      "source": [
        "sweep=10**np.linspace(-6,6,100)\n",
        "# np.column_stack((sweep,np.logspace(-6,6,100)))\n",
        "\n",
        "parent_model_ridge=Ridge()\n",
        "\n",
        "df_errs_ridge=pd.DataFrame()#Placeholder to store mse errors of five folds for each model\n",
        "\n",
        "for alpha_i in sweep:\n",
        "  parent_model_ridge=parent_model_ridge.set_params(**{'alpha':alpha_i})#Model defined\n",
        "\n",
        "  temp_err=CV_5fold(model=parent_model_ridge,metric=mse_score,\n",
        "                    data=X_train_scaled,\n",
        "                    target=y_train)#Run five fold wrapper function on this model\n",
        "  temp_err=pd.Series(temp_err)\n",
        "\n",
        "  df_errs_ridge=pd.concat([df_errs_ridge,temp_err],axis=1)\n",
        "\n",
        "\n",
        "\n",
        "## Sweep for LASSO Model\n",
        "\n",
        "parent_model_lasso=Lasso()\n",
        "\n",
        "df_errs_lasso=pd.DataFrame()\n",
        "for alpha_i in sweep:\n",
        "  parent_model_lasso=parent_model_lasso.set_params(**{'alpha':alpha_i})\n",
        "\n",
        "  temp_err=CV_5fold(model=parent_model_lasso,metric=mse_score,\n",
        "                    data=X_train_scaled,\n",
        "                    target=y_train)\n",
        "  temp_err=pd.Series(temp_err)\n",
        "\n",
        "  df_errs_lasso=pd.concat([df_errs_lasso,temp_err],axis=1)"
      ],
      "execution_count": 9,
      "outputs": []
    },
    {
      "cell_type": "code",
      "metadata": {
        "id": "hQCR0P9ZYy0s"
      },
      "source": [
        "df_errs_ridge.columns=sweep\n",
        "df_errs_lasso.columns=sweep\n",
        "\n",
        "#Compute mean of MSE for 5 CV folds and then determine the alpha for which we get the least mean CV\n",
        "ridge_alpha_best=df_errs_ridge.mean().idxmin()\n",
        "lasso_alpha_best=df_errs_lasso.mean().idxmin()\n",
        "\n"
      ],
      "execution_count": 10,
      "outputs": []
    },
    {
      "cell_type": "markdown",
      "metadata": {
        "id": "Ejv9Bbh8bv1h"
      },
      "source": [
        "**According to minimum of mean MSE obtained on 5 folds**\n",
        "\n",
        "Best alpha obtained for Ridge is 3.5111917342151346,\n",
        "Mean MSE error for this alpha is 0.004006676057457642\n",
        "\n",
        "\n",
        "Best alpha obtained for LAsso is 0.0006135907273413176\n",
        "Mean MSE error for this alpha is 0.00400367554945077\n"
      ]
    },
    {
      "cell_type": "code",
      "metadata": {
        "colab": {
          "base_uri": "https://localhost:8080/"
        },
        "id": "CNuQBG08cQtK",
        "outputId": "bbdba01b-2206-47a1-c654-d50f715b4abb"
      },
      "source": [
        "ridge_best=parent_model_ridge.set_params(alpha=ridge_alpha_best)\n",
        "ridge_best.fit(X_train_scaled,y_train)\n",
        "\n",
        "ridge_best.coef_\n"
      ],
      "execution_count": 11,
      "outputs": [
        {
          "output_type": "execute_result",
          "data": {
            "text/plain": [
              "array([0.02593076, 0.01525984, 0.00373203, 0.00149656, 0.02139496,\n",
              "       0.07238068, 0.00700841])"
            ]
          },
          "metadata": {},
          "execution_count": 11
        }
      ]
    },
    {
      "cell_type": "code",
      "metadata": {
        "colab": {
          "base_uri": "https://localhost:8080/"
        },
        "id": "o9iUA1lBhV2H",
        "outputId": "91c6241b-eb2a-49b8-a06a-1e2288eaa59e"
      },
      "source": [
        "lasso_best=parent_model_lasso.set_params(alpha=lasso_alpha_best)\n",
        "lasso_best.fit(X_train_scaled,y_train)\n",
        "\n",
        "lasso_best.coef_\n"
      ],
      "execution_count": 12,
      "outputs": [
        {
          "output_type": "execute_result",
          "data": {
            "text/plain": [
              "array([0.02518873, 0.01413324, 0.00290906, 0.00064637, 0.02106639,\n",
              "       0.07586388, 0.00652425])"
            ]
          },
          "metadata": {},
          "execution_count": 12
        }
      ]
    },
    {
      "cell_type": "code",
      "metadata": {
        "id": "ITP54BYgdGak"
      },
      "source": [
        ""
      ],
      "execution_count": 12,
      "outputs": []
    },
    {
      "cell_type": "markdown",
      "metadata": {
        "id": "O8BF6pj8dHHW"
      },
      "source": [
        "## Ans 4.3)"
      ]
    },
    {
      "cell_type": "code",
      "metadata": {
        "id": "4b1ZUup_hnYj"
      },
      "source": [
        "def enlist_coeff(parent_model,lt_alphas=sweep):\n",
        "\n",
        "  df_coef=pd.DataFrame()\n",
        "\n",
        "  for alpha_i in lt_alphas:\n",
        "    parent_model=parent_model.set_params(**{'alpha':alpha_i})\n",
        "\n",
        "    parent_model.fit(X_train_scaled,y_train)\n",
        "\n",
        "    temp_coef=pd.Series(parent_model.coef_)\n",
        "    df_coef=pd.concat([df_coef,temp_coef],axis=1)\n",
        "  \n",
        "  df_coef.columns=lt_alphas\n",
        "  df_coef.index=X_train_scaled.columns\n",
        "  return df_coef.T\n",
        "\n",
        "df_coef_ridge=enlist_coeff(Ridge(),lt_alphas=sweep)\n",
        "df_coef_lasso=enlist_coeff(Lasso(),lt_alphas=sweep)\n",
        "\n",
        "\n",
        "\n"
      ],
      "execution_count": 13,
      "outputs": []
    },
    {
      "cell_type": "code",
      "metadata": {
        "colab": {
          "base_uri": "https://localhost:8080/",
          "height": 534
        },
        "id": "isgUwwtmnZwU",
        "outputId": "f78e4676-b7d3-46ec-f4fb-b73a8a10bb11"
      },
      "source": [
        "import matplotlib.pyplot as plt\n",
        "fig,ax=plt.subplots(1,2,figsize=(20,8))\n",
        "df_coef_ridge.plot(ax=ax[0])\n",
        "df_coef_lasso.plot(ax=ax[1])\n",
        "\n",
        "ax[0].set_xscale('log')\n",
        "ax[1].set_xscale('log')\n",
        "\n",
        "ax[0].set_title('Ridge based Models')\n",
        "ax[1].set_title('Lasso based Models')\n",
        "\n",
        "ax[0].set_xlabel('Alphas')\n",
        "ax[1].set_xlabel('Alphas')\n"
      ],
      "execution_count": 14,
      "outputs": [
        {
          "output_type": "execute_result",
          "data": {
            "text/plain": [
              "Text(0.5, 0, 'Alphas')"
            ]
          },
          "metadata": {},
          "execution_count": 14
        },
        {
          "output_type": "display_data",
          "data": {
            "image/png": "[encoded data removed]",
            "text/plain": [
              "<Figure size 1440x576 with 2 Axes>"
            ]
          },
          "metadata": {
            "needs_background": "light"
          }
        }
      ]
    },
    {
      "cell_type": "markdown",
      "metadata": {
        "id": "JdWxjXCFdS9J"
      },
      "source": [
        "## Ridge Model\n",
        "\n",
        "CGPA turns out to be the variable with highest value of coefficient, but possibly there is some presence of data bias error because of which model is not able to determine the extent of  association of other variables with target variable\n",
        "\n",
        "With slight increase in alpha, as the training of model is regularized, the influence of CGPA dips down and other factors start to express their association with the target variable.\n",
        "\n",
        "But with further increase in alpha, beyond 10^3 all coefficient values exponentially decay to zero.\n",
        "\n",
        "## LASSO MODEL\n",
        "\n",
        "The values of coefficients for lasso models with low regularization, is same as that of preliminary ridge models.\n",
        "It is observed that the values of coefficient suddenly drop to zero at slight increase of alpha.\n",
        "This can be attributed to L1 regularization of Lasso model that primarily helps to filter columns\n",
        "\n",
        "**Our analysis, centered around coefficient related observations,recommends to use Ridge model that to in range of alpha between 10 and 10000**\n"
      ]
    },
    {
      "cell_type": "code",
      "metadata": {
        "id": "jTZTKC92nidM"
      },
      "source": [
        "# enlist_coeff(Ridge(),lt_alphas=sweep[:90]).plot(figsize=(20,8))\n",
        "# enlist_coeff(Lasso(),lt_alphas=sweep[:50]).plot(figsize=(20,8))"
      ],
      "execution_count": 15,
      "outputs": []
    },
    {
      "cell_type": "markdown",
      "metadata": {
        "id": "fvLwSxPO6JXv"
      },
      "source": [
        "**ANS 4.4)**"
      ]
    },
    {
      "cell_type": "code",
      "metadata": {
        "id": "astULRLVpKTV"
      },
      "source": [
        "y_train_exp=np.exp(y_train)\n",
        "\n",
        "parent_model_ridge=Ridge()\n",
        "\n",
        "df_errs_ridge_exp=pd.DataFrame()\n",
        "\n",
        "for alpha_i in sweep:\n",
        "  parent_model_ridge=parent_model_ridge.set_params(**{'alpha':alpha_i})\n",
        "\n",
        "  temp_err=CV_5fold(model=parent_model_ridge,metric=mse_score,\n",
        "                    data=X_train_scaled,\n",
        "                    target=y_train_exp)\n",
        "  temp_err=pd.Series(temp_err)\n",
        "\n",
        "  df_errs_ridge_exp=pd.concat([df_errs_ridge_exp,temp_err],axis=1)\n",
        "\n",
        "\n",
        "parent_model_lasso=Lasso()\n",
        "\n",
        "df_errs_lasso_exp=pd.DataFrame()\n",
        "for alpha_i in sweep:\n",
        "  parent_model_lasso=parent_model_lasso.set_params(**{'alpha':alpha_i})\n",
        "\n",
        "  temp_err=CV_5fold(model=parent_model_lasso,metric=mse_score,\n",
        "                    data=X_train_scaled,\n",
        "                    target=y_train_exp)\n",
        "  temp_err=pd.Series(temp_err)\n",
        "\n",
        "  df_errs_lasso_exp=pd.concat([df_errs_lasso_exp,temp_err],axis=1)"
      ],
      "execution_count": 16,
      "outputs": []
    },
    {
      "cell_type": "code",
      "metadata": {
        "id": "aYCYCnNl6Hdp"
      },
      "source": [
        "df_errs_ridge_exp.columns=sweep\n",
        "df_errs_lasso_exp.columns=sweep\n",
        "\n",
        "ridge_alpha_best=df_errs_ridge.mean().agg(['min','idxmin'])#idxmin()\n",
        "lasso_alpha_best=df_errs_lasso.mean().agg(['min','idxmin'])\n",
        "\n",
        "#Compute mean of MSE for 5 CV folds and then determine the alpha for which we get the least mean CV\n",
        "ridge_exp_alpha_best=df_errs_ridge_exp.mean().agg(['min','idxmin'])#idxmin()\n",
        "lasso_exp_alpha_best=df_errs_lasso_exp.mean().agg(['min','idxmin'])\n",
        "\n"
      ],
      "execution_count": 17,
      "outputs": []
    },
    {
      "cell_type": "code",
      "metadata": {
        "colab": {
          "base_uri": "https://localhost:8080/",
          "height": 172
        },
        "id": "uM2btZHR7Z_S",
        "outputId": "bf71415c-f6c5-458d-ba1e-9ea0c9ebb86e"
      },
      "source": [
        "df_mse_alpha=pd.concat([ridge_exp_alpha_best,\n",
        "           lasso_exp_alpha_best,\n",
        "           ridge_alpha_best,\n",
        "           lasso_alpha_best],axis=1)\n",
        "\n",
        "df_mse_alpha.index=['lowest_mean_MSE_5fold','best_alpha']\n",
        "df_mse_alpha.columns=['ridge_ExpTarget','lasso_ExpTarget','ridge','lasso']\n",
        "\n",
        "df_mse_alpha=df_mse_alpha.T\n",
        "df_mse_alpha"
      ],
      "execution_count": 18,
      "outputs": [
        {
          "output_type": "execute_result",
          "data": {
            "text/html": [
              "<div>\n",
              "<style scoped>\n",
              "    .dataframe tbody tr th:only-of-type {\n",
              "        vertical-align: middle;\n",
              "    }\n",
              "\n",
              "    .dataframe tbody tr th {\n",
              "        vertical-align: top;\n",
              "    }\n",
              "\n",
              "    .dataframe thead th {\n",
              "        text-align: right;\n",
              "    }\n",
              "</style>\n",
              "<table border=\"1\" class=\"dataframe\">\n",
              "  <thead>\n",
              "    <tr style=\"text-align: right;\">\n",
              "      <th></th>\n",
              "      <th>lowest_mean_MSE_5fold</th>\n",
              "      <th>best_alpha</th>\n",
              "    </tr>\n",
              "  </thead>\n",
              "  <tbody>\n",
              "    <tr>\n",
              "      <th>ridge_ExpTarget</th>\n",
              "      <td>0.014384</td>\n",
              "      <td>3.511192</td>\n",
              "    </tr>\n",
              "    <tr>\n",
              "      <th>lasso_ExpTarget</th>\n",
              "      <td>0.014395</td>\n",
              "      <td>0.000464</td>\n",
              "    </tr>\n",
              "    <tr>\n",
              "      <th>ridge</th>\n",
              "      <td>0.004007</td>\n",
              "      <td>3.511192</td>\n",
              "    </tr>\n",
              "    <tr>\n",
              "      <th>lasso</th>\n",
              "      <td>0.004004</td>\n",
              "      <td>0.000614</td>\n",
              "    </tr>\n",
              "  </tbody>\n",
              "</table>\n",
              "</div>"
            ],
            "text/plain": [
              "                 lowest_mean_MSE_5fold  best_alpha\n",
              "ridge_ExpTarget               0.014384    3.511192\n",
              "lasso_ExpTarget               0.014395    0.000464\n",
              "ridge                         0.004007    3.511192\n",
              "lasso                         0.004004    0.000614"
            ]
          },
          "metadata": {},
          "execution_count": 18
        }
      ]
    },
    {
      "cell_type": "markdown",
      "metadata": {
        "id": "nYQC_zf9b0EL"
      },
      "source": [
        "We observe that the lowest MSE obtained with the exponential target variable is close to 4 times of that obtained for the actual target.\n",
        "Also, the alpha at which we get the lowest MSE for both the targets for Ridge regression remains the same. But there is a slight change in the alpha value for Lasso regression \n",
        "\n",
        "Additionally, the order of targets and exponential targets differe by ~10, hence MSE must be normalized too for comparison or R2 would have been a better metric of comparison\n",
        "Interpretation of MSE results suggest that exponential transformation of the target variable does not contribute much to the improvement of the model."
      ]
    },
    {
      "cell_type": "code",
      "metadata": {
        "colab": {
          "base_uri": "https://localhost:8080/",
          "height": 295
        },
        "id": "bWGeZEujQHwv",
        "outputId": "68b9ebf2-44ff-4071-91ad-bf120077ba5b"
      },
      "source": [
        "pd.concat([y_train,np.exp(y_train)],axis=1).describe()#Second column describes the exponential results\n"
      ],
      "execution_count": 27,
      "outputs": [
        {
          "output_type": "execute_result",
          "data": {
            "text/html": [
              "<div>\n",
              "<style scoped>\n",
              "    .dataframe tbody tr th:only-of-type {\n",
              "        vertical-align: middle;\n",
              "    }\n",
              "\n",
              "    .dataframe tbody tr th {\n",
              "        vertical-align: top;\n",
              "    }\n",
              "\n",
              "    .dataframe thead th {\n",
              "        text-align: right;\n",
              "    }\n",
              "</style>\n",
              "<table border=\"1\" class=\"dataframe\">\n",
              "  <thead>\n",
              "    <tr style=\"text-align: right;\">\n",
              "      <th></th>\n",
              "      <th>Chance_of_Admit</th>\n",
              "      <th>Chance_of_Admit</th>\n",
              "    </tr>\n",
              "  </thead>\n",
              "  <tbody>\n",
              "    <tr>\n",
              "      <th>count</th>\n",
              "      <td>300.000000</td>\n",
              "      <td>300.000000</td>\n",
              "    </tr>\n",
              "    <tr>\n",
              "      <th>mean</th>\n",
              "      <td>0.719633</td>\n",
              "      <td>2.075300</td>\n",
              "    </tr>\n",
              "    <tr>\n",
              "      <th>std</th>\n",
              "      <td>0.146359</td>\n",
              "      <td>0.296154</td>\n",
              "    </tr>\n",
              "    <tr>\n",
              "      <th>min</th>\n",
              "      <td>0.340000</td>\n",
              "      <td>1.404948</td>\n",
              "    </tr>\n",
              "    <tr>\n",
              "      <th>25%</th>\n",
              "      <td>0.640000</td>\n",
              "      <td>1.896481</td>\n",
              "    </tr>\n",
              "    <tr>\n",
              "      <th>50%</th>\n",
              "      <td>0.720000</td>\n",
              "      <td>2.054433</td>\n",
              "    </tr>\n",
              "    <tr>\n",
              "      <th>75%</th>\n",
              "      <td>0.822500</td>\n",
              "      <td>2.276205</td>\n",
              "    </tr>\n",
              "    <tr>\n",
              "      <th>max</th>\n",
              "      <td>0.970000</td>\n",
              "      <td>2.637944</td>\n",
              "    </tr>\n",
              "  </tbody>\n",
              "</table>\n",
              "</div>"
            ],
            "text/plain": [
              "       Chance_of_Admit  Chance_of_Admit\n",
              "count       300.000000       300.000000\n",
              "mean          0.719633         2.075300\n",
              "std           0.146359         0.296154\n",
              "min           0.340000         1.404948\n",
              "25%           0.640000         1.896481\n",
              "50%           0.720000         2.054433\n",
              "75%           0.822500         2.276205\n",
              "max           0.970000         2.637944"
            ]
          },
          "metadata": {},
          "execution_count": 27
        }
      ]
    },
    {
      "cell_type": "markdown",
      "metadata": {
        "id": "W5gemzmnwPvA"
      },
      "source": [
        "## Ans 4.5)"
      ]
    },
    {
      "cell_type": "code",
      "metadata": {
        "colab": {
          "base_uri": "https://localhost:8080/",
          "height": 487
        },
        "id": "4KxD262N7afe",
        "outputId": "9831a9b7-ea90-41ea-b5f8-f29c19b5d9cc"
      },
      "source": [
        "from sklearn.linear_model import ElasticNet\n",
        "\n",
        "df_coef_elasticnet=enlist_coeff(ElasticNet(),lt_alphas=sweep)\n",
        "\n",
        "fig,ax=plt.subplots(1,1,figsize=(20,8))\n",
        "\n",
        "df_coef_elasticnet.plot(ax=ax)\n",
        "\n",
        "ax.set_xscale('log')"
      ],
      "execution_count": 19,
      "outputs": [
        {
          "output_type": "display_data",
          "data": {
            "image/png": "[encoded data removed]",
            "text/plain": [
              "<Figure size 1440x576 with 1 Axes>"
            ]
          },
          "metadata": {
            "needs_background": "light"
          }
        }
      ]
    },
    {
      "cell_type": "markdown",
      "metadata": {
        "id": "Tl0guOO9shc1"
      },
      "source": [
        "**Elastic Net**\n",
        "\n",
        "The elastic net creates a balance between l1 and l2 regularization and thus helps to generate stability between training of model performed by ridge and variable selection performed by lasso model\n",
        "\n",
        "\n",
        "**LASSO**\n",
        "\n",
        "Lasso model is primarily used for variable selection, \n",
        "With large values of alpha the coeficients of variables may drop significantly even at times to zero.\n",
        "Lasso regularization does not provide much help in our case as the bias of the data towards CGPA was not able to get resolved by high degree of regularization.\n",
        "However this regularization can be used to perform variable selection.\n",
        "\n",
        "If we assign 0.1 value to alpha, we will be able to filter three non zero predictors for our target variable\n",
        "That are CGPA, gre scores and Toefl scores\n",
        "\n",
        "So lasso can be used to perform variable selection.\n",
        "\n",
        "**RIDGE**\n",
        "\n",
        "Ridge on the other hand can be used to regularize the bias of the model towards a particular predictor.\n",
        "This bias can be attributed to sampling error of the data.\n",
        "Ridge model can help sort this bias by introducing L2 regularization in cost function.\n",
        "We can observe that predictors other than CGPA are able to realize their potential in detremining target variable at high values of regularization i.e. alpha between 10 and 1000\n",
        "\n",
        "Thus Ridge can be a better choice if one wishes to do away with errors associted with overfitting and sampling bias.\n",
        "\n",
        "\n",
        "\n",
        "\n",
        "\n",
        "\n",
        "\n",
        "\n",
        "\n"
      ]
    },
    {
      "cell_type": "markdown",
      "metadata": {
        "id": "7LyWE7pCxuqT"
      },
      "source": [
        "**Ans 4.6)**"
      ]
    },
    {
      "cell_type": "code",
      "metadata": {
        "colab": {
          "base_uri": "https://localhost:8080/",
          "height": 142
        },
        "id": "9f2l6bRd90Wv",
        "outputId": "e49891bb-c3c2-45b3-cdf6-8be995065335"
      },
      "source": [
        "from sklearn.linear_model import LinearRegression\n",
        "from sklearn.metrics import r2_score\n",
        "\n",
        "\n",
        "lt_models=[LinearRegression(),Ridge(alpha=ridge_alpha_best['idxmin']),Lasso(alpha=lasso_alpha_best['idxmin'])]\n",
        "\n",
        "X_test_scaled=pd.DataFrame(scaler.transform(X_test),\n",
        "                           columns=X_test.columns,index=X_test.index)#Scale fir on train data is used for transforming the test data\n",
        "\n",
        "lt_r2=[]\n",
        "lt_mse=[]\n",
        "\n",
        "for m in lt_models:\n",
        "\n",
        "  m.fit(X_train_scaled,y_train)\n",
        "  pred=m.predict(X_test_scaled)\n",
        "\n",
        "  lt_r2.append(r2_score(y_test,pred))\n",
        "  lt_mse.append(mse_score(y_test,pred))\n",
        "\n",
        "df_models=pd.DataFrame({'test_r2':lt_r2,'test_mse':lt_mse})\n",
        "df_models.index=['linear_reg','ridge','lasso']\n",
        "df_models"
      ],
      "execution_count": 20,
      "outputs": [
        {
          "output_type": "execute_result",
          "data": {
            "text/html": [
              "<div>\n",
              "<style scoped>\n",
              "    .dataframe tbody tr th:only-of-type {\n",
              "        vertical-align: middle;\n",
              "    }\n",
              "\n",
              "    .dataframe tbody tr th {\n",
              "        vertical-align: top;\n",
              "    }\n",
              "\n",
              "    .dataframe thead th {\n",
              "        text-align: right;\n",
              "    }\n",
              "</style>\n",
              "<table border=\"1\" class=\"dataframe\">\n",
              "  <thead>\n",
              "    <tr style=\"text-align: right;\">\n",
              "      <th></th>\n",
              "      <th>test_r2</th>\n",
              "      <th>test_mse</th>\n",
              "    </tr>\n",
              "  </thead>\n",
              "  <tbody>\n",
              "    <tr>\n",
              "      <th>linear_reg</th>\n",
              "      <td>0.731068</td>\n",
              "      <td>0.004526</td>\n",
              "    </tr>\n",
              "    <tr>\n",
              "      <th>ridge</th>\n",
              "      <td>0.732352</td>\n",
              "      <td>0.004505</td>\n",
              "    </tr>\n",
              "    <tr>\n",
              "      <th>lasso</th>\n",
              "      <td>0.731359</td>\n",
              "      <td>0.004521</td>\n",
              "    </tr>\n",
              "  </tbody>\n",
              "</table>\n",
              "</div>"
            ],
            "text/plain": [
              "             test_r2  test_mse\n",
              "linear_reg  0.731068  0.004526\n",
              "ridge       0.732352  0.004505\n",
              "lasso       0.731359  0.004521"
            ]
          },
          "metadata": {},
          "execution_count": 20
        }
      ]
    },
    {
      "cell_type": "markdown",
      "metadata": {
        "id": "b8YdEVTL2OBg"
      },
      "source": [
        "**Ans 4.7)**"
      ]
    },
    {
      "cell_type": "code",
      "metadata": {
        "colab": {
          "base_uri": "https://localhost:8080/",
          "height": 142
        },
        "id": "u_MWsAqu_Z0T",
        "outputId": "af5ada09-5b0c-4d44-a718-65e8ec3f1c5c"
      },
      "source": [
        "from sklearn.linear_model import LinearRegression\n",
        "from sklearn.metrics import r2_score\n",
        "\n",
        "lt_models=[LinearRegression(),Ridge(alpha=ridge_alpha_best['idxmin']),Lasso(alpha=lasso_alpha_best['idxmin'])]\n",
        "lt_r2=[]\n",
        "lt_mse=[]\n",
        "\n",
        "for m in lt_models:\n",
        "\n",
        "  m.fit(X_train,y_train)\n",
        "  pred=m.predict(X_test)\n",
        "\n",
        "  lt_r2.append(r2_score(y_test,pred))\n",
        "  lt_mse.append(mse_score(y_test,pred))\n",
        "\n",
        "df_models_notscaled=pd.DataFrame({'test_r2':lt_r2,'test_mse':lt_mse})\n",
        "df_models_notscaled.index=[i+'_unscaled' for i in['linear_reg','ridge','lasso']]\n",
        "df_models_notscaled"
      ],
      "execution_count": 21,
      "outputs": [
        {
          "output_type": "execute_result",
          "data": {
            "text/html": [
              "<div>\n",
              "<style scoped>\n",
              "    .dataframe tbody tr th:only-of-type {\n",
              "        vertical-align: middle;\n",
              "    }\n",
              "\n",
              "    .dataframe tbody tr th {\n",
              "        vertical-align: top;\n",
              "    }\n",
              "\n",
              "    .dataframe thead th {\n",
              "        text-align: right;\n",
              "    }\n",
              "</style>\n",
              "<table border=\"1\" class=\"dataframe\">\n",
              "  <thead>\n",
              "    <tr style=\"text-align: right;\">\n",
              "      <th></th>\n",
              "      <th>test_r2</th>\n",
              "      <th>test_mse</th>\n",
              "    </tr>\n",
              "  </thead>\n",
              "  <tbody>\n",
              "    <tr>\n",
              "      <th>linear_reg_unscaled</th>\n",
              "      <td>0.731068</td>\n",
              "      <td>0.004526</td>\n",
              "    </tr>\n",
              "    <tr>\n",
              "      <th>ridge_unscaled</th>\n",
              "      <td>0.731659</td>\n",
              "      <td>0.004516</td>\n",
              "    </tr>\n",
              "    <tr>\n",
              "      <th>lasso_unscaled</th>\n",
              "      <td>0.729394</td>\n",
              "      <td>0.004554</td>\n",
              "    </tr>\n",
              "  </tbody>\n",
              "</table>\n",
              "</div>"
            ],
            "text/plain": [
              "                      test_r2  test_mse\n",
              "linear_reg_unscaled  0.731068  0.004526\n",
              "ridge_unscaled       0.731659  0.004516\n",
              "lasso_unscaled       0.729394  0.004554"
            ]
          },
          "metadata": {},
          "execution_count": 21
        }
      ]
    },
    {
      "cell_type": "code",
      "metadata": {
        "id": "ZLyr28g0ywfq",
        "colab": {
          "base_uri": "https://localhost:8080/"
        },
        "outputId": "9e023674-9a58-4e42-b11d-e596b20d81fc"
      },
      "source": [
        "m.coef_"
      ],
      "execution_count": 22,
      "outputs": [
        {
          "output_type": "execute_result",
          "data": {
            "text/plain": [
              "array([0.00245162, 0.00251931, 0.00261576, 0.00100047, 0.02371886,\n",
              "       0.11800109, 0.01041756])"
            ]
          },
          "metadata": {},
          "execution_count": 22
        }
      ]
    },
    {
      "cell_type": "code",
      "metadata": {
        "colab": {
          "base_uri": "https://localhost:8080/",
          "height": 234
        },
        "id": "d5PceGHQCbYw",
        "outputId": "d0bfbc75-3ee4-49f9-a824-e876cc66e68d"
      },
      "source": [
        "pd.concat([X_train,X_train_scaled],axis=1).head()"
      ],
      "execution_count": 23,
      "outputs": [
        {
          "output_type": "execute_result",
          "data": {
            "text/html": [
              "<div>\n",
              "<style scoped>\n",
              "    .dataframe tbody tr th:only-of-type {\n",
              "        vertical-align: middle;\n",
              "    }\n",
              "\n",
              "    .dataframe tbody tr th {\n",
              "        vertical-align: top;\n",
              "    }\n",
              "\n",
              "    .dataframe thead th {\n",
              "        text-align: right;\n",
              "    }\n",
              "</style>\n",
              "<table border=\"1\" class=\"dataframe\">\n",
              "  <thead>\n",
              "    <tr style=\"text-align: right;\">\n",
              "      <th></th>\n",
              "      <th>GRE_Score</th>\n",
              "      <th>TOEFL_Score</th>\n",
              "      <th>University_Rating</th>\n",
              "      <th>SOP</th>\n",
              "      <th>LOR</th>\n",
              "      <th>CGPA</th>\n",
              "      <th>Research</th>\n",
              "      <th>GRE_Score</th>\n",
              "      <th>TOEFL_Score</th>\n",
              "      <th>University_Rating</th>\n",
              "      <th>SOP</th>\n",
              "      <th>LOR</th>\n",
              "      <th>CGPA</th>\n",
              "      <th>Research</th>\n",
              "    </tr>\n",
              "    <tr>\n",
              "      <th>Serial No.</th>\n",
              "      <th></th>\n",
              "      <th></th>\n",
              "      <th></th>\n",
              "      <th></th>\n",
              "      <th></th>\n",
              "      <th></th>\n",
              "      <th></th>\n",
              "      <th></th>\n",
              "      <th></th>\n",
              "      <th></th>\n",
              "      <th></th>\n",
              "      <th></th>\n",
              "      <th></th>\n",
              "      <th></th>\n",
              "    </tr>\n",
              "  </thead>\n",
              "  <tbody>\n",
              "    <tr>\n",
              "      <th>204</th>\n",
              "      <td>334</td>\n",
              "      <td>120</td>\n",
              "      <td>5</td>\n",
              "      <td>4.0</td>\n",
              "      <td>5.0</td>\n",
              "      <td>9.87</td>\n",
              "      <td>1</td>\n",
              "      <td>1.527254</td>\n",
              "      <td>2.091771</td>\n",
              "      <td>1.615944</td>\n",
              "      <td>0.631508</td>\n",
              "      <td>1.728291</td>\n",
              "      <td>2.113703</td>\n",
              "      <td>0.904534</td>\n",
              "    </tr>\n",
              "    <tr>\n",
              "      <th>265</th>\n",
              "      <td>325</td>\n",
              "      <td>110</td>\n",
              "      <td>2</td>\n",
              "      <td>3.0</td>\n",
              "      <td>2.5</td>\n",
              "      <td>8.76</td>\n",
              "      <td>1</td>\n",
              "      <td>0.741809</td>\n",
              "      <td>0.463089</td>\n",
              "      <td>-0.931078</td>\n",
              "      <td>-0.352660</td>\n",
              "      <td>-1.041406</td>\n",
              "      <td>0.294888</td>\n",
              "      <td>0.904534</td>\n",
              "    </tr>\n",
              "    <tr>\n",
              "      <th>339</th>\n",
              "      <td>323</td>\n",
              "      <td>108</td>\n",
              "      <td>5</td>\n",
              "      <td>4.0</td>\n",
              "      <td>4.0</td>\n",
              "      <td>8.74</td>\n",
              "      <td>1</td>\n",
              "      <td>0.567266</td>\n",
              "      <td>0.137352</td>\n",
              "      <td>1.615944</td>\n",
              "      <td>0.631508</td>\n",
              "      <td>0.620412</td>\n",
              "      <td>0.262117</td>\n",
              "      <td>0.904534</td>\n",
              "    </tr>\n",
              "    <tr>\n",
              "      <th>262</th>\n",
              "      <td>312</td>\n",
              "      <td>104</td>\n",
              "      <td>3</td>\n",
              "      <td>3.5</td>\n",
              "      <td>4.0</td>\n",
              "      <td>8.09</td>\n",
              "      <td>0</td>\n",
              "      <td>-0.392722</td>\n",
              "      <td>-0.514121</td>\n",
              "      <td>-0.082071</td>\n",
              "      <td>0.139424</td>\n",
              "      <td>0.620412</td>\n",
              "      <td>-0.802955</td>\n",
              "      <td>-1.105542</td>\n",
              "    </tr>\n",
              "    <tr>\n",
              "      <th>217</th>\n",
              "      <td>322</td>\n",
              "      <td>112</td>\n",
              "      <td>4</td>\n",
              "      <td>4.5</td>\n",
              "      <td>4.5</td>\n",
              "      <td>9.26</td>\n",
              "      <td>1</td>\n",
              "      <td>0.479994</td>\n",
              "      <td>0.788825</td>\n",
              "      <td>0.766936</td>\n",
              "      <td>1.123593</td>\n",
              "      <td>1.174352</td>\n",
              "      <td>1.114174</td>\n",
              "      <td>0.904534</td>\n",
              "    </tr>\n",
              "  </tbody>\n",
              "</table>\n",
              "</div>"
            ],
            "text/plain": [
              "            GRE_Score  TOEFL_Score  ...      CGPA  Research\n",
              "Serial No.                          ...                    \n",
              "204               334          120  ...  2.113703  0.904534\n",
              "265               325          110  ...  0.294888  0.904534\n",
              "339               323          108  ...  0.262117  0.904534\n",
              "262               312          104  ... -0.802955 -1.105542\n",
              "217               322          112  ...  1.114174  0.904534\n",
              "\n",
              "[5 rows x 14 columns]"
            ]
          },
          "metadata": {},
          "execution_count": 23
        }
      ]
    },
    {
      "cell_type": "markdown",
      "metadata": {
        "id": "JJ2jkOb2b3sa"
      },
      "source": [
        "Scaling should be done to the data before regularisation so that all the variables are regularised in a similar manner.\n",
        "If one variable has very high value/order compared to others, then that variable may be penalised much more in regularisation while comapred to others.\n",
        "Therefore, to avoid such instances, we need to scale the data and bring all the variables into a similar scale prior to regularisation\n",
        "In this case, we see that we are getting similar results both with and without regularisation. This may be due to the **strong influence, association, of one variable (CGPA) on the target as compared to other variables**. "
      ]
    },
    {
      "cell_type": "code",
      "metadata": {
        "id": "IP-a-eLDb72F"
      },
      "source": [
        ""
      ],
      "execution_count": 23,
      "outputs": []
    }
  ]
}