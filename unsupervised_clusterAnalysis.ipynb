{
  "nbformat": 4,
  "nbformat_minor": 0,
  "metadata": {
    "colab": {
      "name": "unsupervised_clusterAnalysis_hw2.ipynb",
      "provenance": [],
      "collapsed_sections": []
    },
    "kernelspec": {
      "name": "python3",
      "display_name": "Python 3"
    },
    "language_info": {
      "name": "python"
    }
  },
  "cells": [
    {
      "cell_type": "code",
      "execution_count": null,
      "metadata": {
        "id": "agDEz-Pz41Zb"
      },
      "outputs": [],
      "source": [
        "import numpy as np\n",
        "import pandas as pd"
      ]
    },
    {
      "cell_type": "code",
      "source": [
        "# pd.read_excel?\n",
        "df=pd.read_excel('HW cluster data.xlsx',sheet_name=0,\n",
        "              header=0,\n",
        "              index_col=0,nrows=8\n",
        "              )\n",
        "df#groupby('Clus')"
      ],
      "metadata": {
        "colab": {
          "base_uri": "https://localhost:8080/",
          "height": 332
        },
        "id": "FRjvVGfc47Bv",
        "outputId": "8e57212d-ecb5-47c5-cc8d-b43b9c5ce46c"
      },
      "execution_count": null,
      "outputs": [
        {
          "output_type": "execute_result",
          "data": {
            "text/html": [
              "\n",
              "  <div id=\"df-f78bcb5b-694d-4518-ae6f-cd649b7cad30\">\n",
              "    <div class=\"colab-df-container\">\n",
              "      <div>\n",
              "<style scoped>\n",
              "    .dataframe tbody tr th:only-of-type {\n",
              "        vertical-align: middle;\n",
              "    }\n",
              "\n",
              "    .dataframe tbody tr th {\n",
              "        vertical-align: top;\n",
              "    }\n",
              "\n",
              "    .dataframe thead th {\n",
              "        text-align: right;\n",
              "    }\n",
              "</style>\n",
              "<table border=\"1\" class=\"dataframe\">\n",
              "  <thead>\n",
              "    <tr style=\"text-align: right;\">\n",
              "      <th></th>\n",
              "      <th>X</th>\n",
              "      <th>Y</th>\n",
              "      <th>Cluster</th>\n",
              "    </tr>\n",
              "    <tr>\n",
              "      <th>case #</th>\n",
              "      <th></th>\n",
              "      <th></th>\n",
              "      <th></th>\n",
              "    </tr>\n",
              "  </thead>\n",
              "  <tbody>\n",
              "    <tr>\n",
              "      <th>1</th>\n",
              "      <td>2</td>\n",
              "      <td>1</td>\n",
              "      <td>1</td>\n",
              "    </tr>\n",
              "    <tr>\n",
              "      <th>2</th>\n",
              "      <td>3</td>\n",
              "      <td>2</td>\n",
              "      <td>1</td>\n",
              "    </tr>\n",
              "    <tr>\n",
              "      <th>3</th>\n",
              "      <td>4</td>\n",
              "      <td>0</td>\n",
              "      <td>1</td>\n",
              "    </tr>\n",
              "    <tr>\n",
              "      <th>4</th>\n",
              "      <td>6</td>\n",
              "      <td>2</td>\n",
              "      <td>2</td>\n",
              "    </tr>\n",
              "    <tr>\n",
              "      <th>5</th>\n",
              "      <td>10</td>\n",
              "      <td>4</td>\n",
              "      <td>2</td>\n",
              "    </tr>\n",
              "    <tr>\n",
              "      <th>6</th>\n",
              "      <td>4</td>\n",
              "      <td>5</td>\n",
              "      <td>3</td>\n",
              "    </tr>\n",
              "    <tr>\n",
              "      <th>7</th>\n",
              "      <td>5</td>\n",
              "      <td>6</td>\n",
              "      <td>3</td>\n",
              "    </tr>\n",
              "    <tr>\n",
              "      <th>8</th>\n",
              "      <td>6</td>\n",
              "      <td>4</td>\n",
              "      <td>3</td>\n",
              "    </tr>\n",
              "  </tbody>\n",
              "</table>\n",
              "</div>\n",
              "      <button class=\"colab-df-convert\" onclick=\"convertToInteractive('df-f78bcb5b-694d-4518-ae6f-cd649b7cad30')\"\n",
              "              title=\"Convert this dataframe to an interactive table.\"\n",
              "              style=\"display:none;\">\n",
              "        \n",
              "  <svg xmlns=\"http://www.w3.org/2000/svg\" height=\"24px\"viewBox=\"0 0 24 24\"\n",
              "       width=\"24px\">\n",
              "    <path d=\"M0 0h24v24H0V0z\" fill=\"none\"/>\n",
              "    <path d=\"M18.56 5.44l.94 2.06.94-2.06 2.06-.94-2.06-.94-.94-2.06-.94 2.06-2.06.94zm-11 1L8.5 8.5l.94-2.06 2.06-.94-2.06-.94L8.5 2.5l-.94 2.06-2.06.94zm10 10l.94 2.06.94-2.06 2.06-.94-2.06-.94-.94-2.06-.94 2.06-2.06.94z\"/><path d=\"M17.41 7.96l-1.37-1.37c-.4-.4-.92-.59-1.43-.59-.52 0-1.04.2-1.43.59L10.3 9.45l-7.72 7.72c-.78.78-.78 2.05 0 2.83L4 21.41c.39.39.9.59 1.41.59.51 0 1.02-.2 1.41-.59l7.78-7.78 2.81-2.81c.8-.78.8-2.07 0-2.86zM5.41 20L4 18.59l7.72-7.72 1.47 1.35L5.41 20z\"/>\n",
              "  </svg>\n",
              "      </button>\n",
              "      \n",
              "  <style>\n",
              "    .colab-df-container {\n",
              "      display:flex;\n",
              "      flex-wrap:wrap;\n",
              "      gap: 12px;\n",
              "    }\n",
              "\n",
              "    .colab-df-convert {\n",
              "      background-color: #E8F0FE;\n",
              "      border: none;\n",
              "      border-radius: 50%;\n",
              "      cursor: pointer;\n",
              "      display: none;\n",
              "      fill: #1967D2;\n",
              "      height: 32px;\n",
              "      padding: 0 0 0 0;\n",
              "      width: 32px;\n",
              "    }\n",
              "\n",
              "    .colab-df-convert:hover {\n",
              "      background-color: #E2EBFA;\n",
              "      box-shadow: 0px 1px 2px rgba(60, 64, 67, 0.3), 0px 1px 3px 1px rgba(60, 64, 67, 0.15);\n",
              "      fill: #174EA6;\n",
              "    }\n",
              "\n",
              "    [theme=dark] .colab-df-convert {\n",
              "      background-color: #3B4455;\n",
              "      fill: #D2E3FC;\n",
              "    }\n",
              "\n",
              "    [theme=dark] .colab-df-convert:hover {\n",
              "      background-color: #434B5C;\n",
              "      box-shadow: 0px 1px 3px 1px rgba(0, 0, 0, 0.15);\n",
              "      filter: drop-shadow(0px 1px 2px rgba(0, 0, 0, 0.3));\n",
              "      fill: #FFFFFF;\n",
              "    }\n",
              "  </style>\n",
              "\n",
              "      <script>\n",
              "        const buttonEl =\n",
              "          document.querySelector('#df-f78bcb5b-694d-4518-ae6f-cd649b7cad30 button.colab-df-convert');\n",
              "        buttonEl.style.display =\n",
              "          google.colab.kernel.accessAllowed ? 'block' : 'none';\n",
              "\n",
              "        async function convertToInteractive(key) {\n",
              "          const element = document.querySelector('#df-f78bcb5b-694d-4518-ae6f-cd649b7cad30');\n",
              "          const dataTable =\n",
              "            await google.colab.kernel.invokeFunction('convertToInteractive',\n",
              "                                                     [key], {});\n",
              "          if (!dataTable) return;\n",
              "\n",
              "          const docLinkHtml = 'Like what you see? Visit the ' +\n",
              "            '<a target=\"_blank\" href=https://colab.research.google.com/notebooks/data_table.ipynb>data table notebook</a>'\n",
              "            + ' to learn more about interactive tables.';\n",
              "          element.innerHTML = '';\n",
              "          dataTable['output_type'] = 'display_data';\n",
              "          await google.colab.output.renderOutput(dataTable, element);\n",
              "          const docLink = document.createElement('div');\n",
              "          docLink.innerHTML = docLinkHtml;\n",
              "          element.appendChild(docLink);\n",
              "        }\n",
              "      </script>\n",
              "    </div>\n",
              "  </div>\n",
              "  "
            ],
            "text/plain": [
              "         X  Y  Cluster\n",
              "case #                \n",
              "1        2  1        1\n",
              "2        3  2        1\n",
              "3        4  0        1\n",
              "4        6  2        2\n",
              "5       10  4        2\n",
              "6        4  5        3\n",
              "7        5  6        3\n",
              "8        6  4        3"
            ]
          },
          "metadata": {},
          "execution_count": 2
        }
      ]
    },
    {
      "cell_type": "code",
      "source": [
        "df.loc[:,['cluster_mean_'+str(i) for i in df.columns if i!='Cluster']]=df.groupby('Cluster').transform('mean').values\n",
        "df"
      ],
      "metadata": {
        "colab": {
          "base_uri": "https://localhost:8080/",
          "height": 332
        },
        "id": "E7i-L8KI5CuM",
        "outputId": "f6073e12-fb85-4530-b3c8-5d337991282b"
      },
      "execution_count": null,
      "outputs": [
        {
          "output_type": "execute_result",
          "data": {
            "text/html": [
              "\n",
              "  <div id=\"df-01b91bf0-78ea-457f-adab-9dedd402dc95\">\n",
              "    <div class=\"colab-df-container\">\n",
              "      <div>\n",
              "<style scoped>\n",
              "    .dataframe tbody tr th:only-of-type {\n",
              "        vertical-align: middle;\n",
              "    }\n",
              "\n",
              "    .dataframe tbody tr th {\n",
              "        vertical-align: top;\n",
              "    }\n",
              "\n",
              "    .dataframe thead th {\n",
              "        text-align: right;\n",
              "    }\n",
              "</style>\n",
              "<table border=\"1\" class=\"dataframe\">\n",
              "  <thead>\n",
              "    <tr style=\"text-align: right;\">\n",
              "      <th></th>\n",
              "      <th>X</th>\n",
              "      <th>Y</th>\n",
              "      <th>Cluster</th>\n",
              "      <th>cluster_mean_X</th>\n",
              "      <th>cluster_mean_Y</th>\n",
              "    </tr>\n",
              "    <tr>\n",
              "      <th>case #</th>\n",
              "      <th></th>\n",
              "      <th></th>\n",
              "      <th></th>\n",
              "      <th></th>\n",
              "      <th></th>\n",
              "    </tr>\n",
              "  </thead>\n",
              "  <tbody>\n",
              "    <tr>\n",
              "      <th>1</th>\n",
              "      <td>2</td>\n",
              "      <td>1</td>\n",
              "      <td>1</td>\n",
              "      <td>3.0</td>\n",
              "      <td>1.0</td>\n",
              "    </tr>\n",
              "    <tr>\n",
              "      <th>2</th>\n",
              "      <td>3</td>\n",
              "      <td>2</td>\n",
              "      <td>1</td>\n",
              "      <td>3.0</td>\n",
              "      <td>1.0</td>\n",
              "    </tr>\n",
              "    <tr>\n",
              "      <th>3</th>\n",
              "      <td>4</td>\n",
              "      <td>0</td>\n",
              "      <td>1</td>\n",
              "      <td>3.0</td>\n",
              "      <td>1.0</td>\n",
              "    </tr>\n",
              "    <tr>\n",
              "      <th>4</th>\n",
              "      <td>6</td>\n",
              "      <td>2</td>\n",
              "      <td>2</td>\n",
              "      <td>8.0</td>\n",
              "      <td>3.0</td>\n",
              "    </tr>\n",
              "    <tr>\n",
              "      <th>5</th>\n",
              "      <td>10</td>\n",
              "      <td>4</td>\n",
              "      <td>2</td>\n",
              "      <td>8.0</td>\n",
              "      <td>3.0</td>\n",
              "    </tr>\n",
              "    <tr>\n",
              "      <th>6</th>\n",
              "      <td>4</td>\n",
              "      <td>5</td>\n",
              "      <td>3</td>\n",
              "      <td>5.0</td>\n",
              "      <td>5.0</td>\n",
              "    </tr>\n",
              "    <tr>\n",
              "      <th>7</th>\n",
              "      <td>5</td>\n",
              "      <td>6</td>\n",
              "      <td>3</td>\n",
              "      <td>5.0</td>\n",
              "      <td>5.0</td>\n",
              "    </tr>\n",
              "    <tr>\n",
              "      <th>8</th>\n",
              "      <td>6</td>\n",
              "      <td>4</td>\n",
              "      <td>3</td>\n",
              "      <td>5.0</td>\n",
              "      <td>5.0</td>\n",
              "    </tr>\n",
              "  </tbody>\n",
              "</table>\n",
              "</div>\n",
              "      <button class=\"colab-df-convert\" onclick=\"convertToInteractive('df-01b91bf0-78ea-457f-adab-9dedd402dc95')\"\n",
              "              title=\"Convert this dataframe to an interactive table.\"\n",
              "              style=\"display:none;\">\n",
              "        \n",
              "  <svg xmlns=\"http://www.w3.org/2000/svg\" height=\"24px\"viewBox=\"0 0 24 24\"\n",
              "       width=\"24px\">\n",
              "    <path d=\"M0 0h24v24H0V0z\" fill=\"none\"/>\n",
              "    <path d=\"M18.56 5.44l.94 2.06.94-2.06 2.06-.94-2.06-.94-.94-2.06-.94 2.06-2.06.94zm-11 1L8.5 8.5l.94-2.06 2.06-.94-2.06-.94L8.5 2.5l-.94 2.06-2.06.94zm10 10l.94 2.06.94-2.06 2.06-.94-2.06-.94-.94-2.06-.94 2.06-2.06.94z\"/><path d=\"M17.41 7.96l-1.37-1.37c-.4-.4-.92-.59-1.43-.59-.52 0-1.04.2-1.43.59L10.3 9.45l-7.72 7.72c-.78.78-.78 2.05 0 2.83L4 21.41c.39.39.9.59 1.41.59.51 0 1.02-.2 1.41-.59l7.78-7.78 2.81-2.81c.8-.78.8-2.07 0-2.86zM5.41 20L4 18.59l7.72-7.72 1.47 1.35L5.41 20z\"/>\n",
              "  </svg>\n",
              "      </button>\n",
              "      \n",
              "  <style>\n",
              "    .colab-df-container {\n",
              "      display:flex;\n",
              "      flex-wrap:wrap;\n",
              "      gap: 12px;\n",
              "    }\n",
              "\n",
              "    .colab-df-convert {\n",
              "      background-color: #E8F0FE;\n",
              "      border: none;\n",
              "      border-radius: 50%;\n",
              "      cursor: pointer;\n",
              "      display: none;\n",
              "      fill: #1967D2;\n",
              "      height: 32px;\n",
              "      padding: 0 0 0 0;\n",
              "      width: 32px;\n",
              "    }\n",
              "\n",
              "    .colab-df-convert:hover {\n",
              "      background-color: #E2EBFA;\n",
              "      box-shadow: 0px 1px 2px rgba(60, 64, 67, 0.3), 0px 1px 3px 1px rgba(60, 64, 67, 0.15);\n",
              "      fill: #174EA6;\n",
              "    }\n",
              "\n",
              "    [theme=dark] .colab-df-convert {\n",
              "      background-color: #3B4455;\n",
              "      fill: #D2E3FC;\n",
              "    }\n",
              "\n",
              "    [theme=dark] .colab-df-convert:hover {\n",
              "      background-color: #434B5C;\n",
              "      box-shadow: 0px 1px 3px 1px rgba(0, 0, 0, 0.15);\n",
              "      filter: drop-shadow(0px 1px 2px rgba(0, 0, 0, 0.3));\n",
              "      fill: #FFFFFF;\n",
              "    }\n",
              "  </style>\n",
              "\n",
              "      <script>\n",
              "        const buttonEl =\n",
              "          document.querySelector('#df-01b91bf0-78ea-457f-adab-9dedd402dc95 button.colab-df-convert');\n",
              "        buttonEl.style.display =\n",
              "          google.colab.kernel.accessAllowed ? 'block' : 'none';\n",
              "\n",
              "        async function convertToInteractive(key) {\n",
              "          const element = document.querySelector('#df-01b91bf0-78ea-457f-adab-9dedd402dc95');\n",
              "          const dataTable =\n",
              "            await google.colab.kernel.invokeFunction('convertToInteractive',\n",
              "                                                     [key], {});\n",
              "          if (!dataTable) return;\n",
              "\n",
              "          const docLinkHtml = 'Like what you see? Visit the ' +\n",
              "            '<a target=\"_blank\" href=https://colab.research.google.com/notebooks/data_table.ipynb>data table notebook</a>'\n",
              "            + ' to learn more about interactive tables.';\n",
              "          element.innerHTML = '';\n",
              "          dataTable['output_type'] = 'display_data';\n",
              "          await google.colab.output.renderOutput(dataTable, element);\n",
              "          const docLink = document.createElement('div');\n",
              "          docLink.innerHTML = docLinkHtml;\n",
              "          element.appendChild(docLink);\n",
              "        }\n",
              "      </script>\n",
              "    </div>\n",
              "  </div>\n",
              "  "
            ],
            "text/plain": [
              "         X  Y  Cluster  cluster_mean_X  cluster_mean_Y\n",
              "case #                                                \n",
              "1        2  1        1             3.0             1.0\n",
              "2        3  2        1             3.0             1.0\n",
              "3        4  0        1             3.0             1.0\n",
              "4        6  2        2             8.0             3.0\n",
              "5       10  4        2             8.0             3.0\n",
              "6        4  5        3             5.0             5.0\n",
              "7        5  6        3             5.0             5.0\n",
              "8        6  4        3             5.0             5.0"
            ]
          },
          "metadata": {},
          "execution_count": 3
        }
      ]
    },
    {
      "cell_type": "code",
      "source": [
        "# values of observation across variables\n",
        "# mean of variables axis 1\n",
        "\n",
        "# deviance of variable about mean then their squares\n",
        "# Finally sum of squared deviances\n",
        "var_cols=['X','Y']\n",
        "\n",
        "\n",
        "def within_cluster_sumofSquares(d,var_cols):\n",
        "  arr=d.loc[:,var_cols].values#shape=obs,var\n",
        "\n",
        "  cluster_mean_vec=arr.mean(axis=0)#shape=var,\n",
        "  #cab be directly vectorised/broadcasted\n",
        "\n",
        "\n",
        "  deviance=arr-cluster_mean_vec\n",
        "  square_deviance=pow(deviance,2)\n",
        "  sum_square_deviance=square_deviance.sum().sum()#first summ across each variable for all observation and then sum of deviance across each variable\n",
        "  # print(deviance)\n",
        "  return sum_square_deviance\n",
        "\n",
        "df_cluster_sumofSquares=df.groupby(['Cluster']).apply(within_cluster_sumofSquares,var_cols=var_cols)\n",
        "df_cluster_sumofSquares\n",
        "\n"
      ],
      "metadata": {
        "colab": {
          "base_uri": "https://localhost:8080/"
        },
        "id": "tLU2z5mF5F6t",
        "outputId": "5f0eb0a3-ad34-4d3d-94e9-0ab1059e1df5"
      },
      "execution_count": null,
      "outputs": [
        {
          "output_type": "execute_result",
          "data": {
            "text/plain": [
              "Cluster\n",
              "1     4.0\n",
              "2    10.0\n",
              "3     4.0\n",
              "dtype: float64"
            ]
          },
          "metadata": {},
          "execution_count": 4
        }
      ]
    },
    {
      "cell_type": "code",
      "source": [
        "wss=df_cluster_sumofSquares.sum()\n",
        "wss"
      ],
      "metadata": {
        "colab": {
          "base_uri": "https://localhost:8080/"
        },
        "id": "7DS7JXYo8hc9",
        "outputId": "1d61b1ac-987a-4f3f-f3b8-3167c1214f04"
      },
      "execution_count": null,
      "outputs": [
        {
          "output_type": "execute_result",
          "data": {
            "text/plain": [
              "18.0"
            ]
          },
          "metadata": {},
          "execution_count": 5
        }
      ]
    },
    {
      "cell_type": "markdown",
      "source": [
        "# BSS\n",
        "bss is primarily associated with deviance of cluster mean vector from the global mean vector\n",
        "\n",
        "The computation has to also consider the number of data points within each cluster\n",
        "\n",
        "\n",
        "-- Compute local mean and global means\n",
        "\n",
        "\n",
        ">   Create a l2 deviance vector for the distance between two means\n",
        "\n",
        ">   Create count vector for each cluster\n",
        "\n",
        "\n",
        ">> Compute product of two and then vector sum to generate BSS\n",
        "\n"
      ],
      "metadata": {
        "id": "h0AvaZaA-G8R"
      }
    },
    {
      "cell_type": "code",
      "source": [
        "global_mean_vector=df.loc[:,var_cols].mean().values#shape var,\n",
        "\n",
        "cluster_mean_vector=df.groupby('Cluster')[var_cols].mean().values# cluster,var\n",
        "cluster_count=df.Cluster.value_counts(sort=False).values# cluster,\n",
        "\n",
        "#lets compute the l2 diviance first so that the vector shape gets aligned\n",
        "\n",
        "l2_deviance=np.sum(np.power(cluster_mean_vector-global_mean_vector,2),axis=1)#we need square deviance for each cluster computed across all the variables\n",
        "l2_deviance\n",
        "\n",
        "weighted_l2Deviance=l2_deviance*cluster_count\n",
        "weighted_l2Deviance"
      ],
      "metadata": {
        "colab": {
          "base_uri": "https://localhost:8080/"
        },
        "id": "SCHpwfg795MB",
        "outputId": "9cbf64a2-6f39-46ed-d028-666192ff65eb"
      },
      "execution_count": null,
      "outputs": [
        {
          "output_type": "execute_result",
          "data": {
            "text/plain": [
              "array([24., 18., 12.])"
            ]
          },
          "metadata": {},
          "execution_count": 6
        }
      ]
    },
    {
      "cell_type": "code",
      "source": [
        "bss=sum(weighted_l2Deviance)\n",
        "bss"
      ],
      "metadata": {
        "colab": {
          "base_uri": "https://localhost:8080/"
        },
        "id": "x3sFWk45_kyE",
        "outputId": "86daf764-c11f-4c04-e6ba-6c10453e0353"
      },
      "execution_count": null,
      "outputs": [
        {
          "output_type": "execute_result",
          "data": {
            "text/plain": [
              "54.0"
            ]
          },
          "metadata": {},
          "execution_count": 7
        }
      ]
    },
    {
      "cell_type": "markdown",
      "source": [
        "# TSS\n",
        "We will verify TSS= BSS +Wss\n",
        "\n",
        "TSS is the deviance across global_mean\n",
        "We can consider the entire dataset as the global cluster and computer square of deviance"
      ],
      "metadata": {
        "id": "YsSa2T35BIaJ"
      }
    },
    {
      "cell_type": "code",
      "source": [
        "tss=within_cluster_sumofSquares(df,var_cols)\n",
        "tss"
      ],
      "metadata": {
        "colab": {
          "base_uri": "https://localhost:8080/"
        },
        "id": "8KSdfQO_Ai0M",
        "outputId": "a325a550-e02a-4c2c-aa45-7546939512e9"
      },
      "execution_count": null,
      "outputs": [
        {
          "output_type": "execute_result",
          "data": {
            "text/plain": [
              "72.0"
            ]
          },
          "metadata": {},
          "execution_count": 8
        }
      ]
    },
    {
      "cell_type": "markdown",
      "source": [
        "# R2\n",
        "R square determines how much variation is being explained by the new group of means as compared to the previous ones\n",
        "\n",
        "Previous one in generalised case refers to the Global mean \n",
        "\n",
        "r2=1-(WSS/TSS)\n",
        ">=BSS/TSS\n"
      ],
      "metadata": {
        "id": "DQBC46bPEwBu"
      }
    },
    {
      "cell_type": "code",
      "source": [
        "r2=bss/tss\n",
        "r2"
      ],
      "metadata": {
        "colab": {
          "base_uri": "https://localhost:8080/"
        },
        "id": "aulfHGxBBewa",
        "outputId": "1f79f79d-72d6-4397-ad04-6df9f2b80642"
      },
      "execution_count": null,
      "outputs": [
        {
          "output_type": "execute_result",
          "data": {
            "text/plain": [
              "0.75"
            ]
          },
          "metadata": {},
          "execution_count": 9
        }
      ]
    },
    {
      "cell_type": "markdown",
      "source": [
        "# If each data point was itself a cluster"
      ],
      "metadata": {
        "id": "k8HnVcroKmHi"
      }
    },
    {
      "cell_type": "code",
      "source": [
        "# If each data point was itself a cluster then the WSS would have been 0 and no variation is left to be explained when we have considered all the data points\n",
        "#BSS would have been equal to TSS and r2 thus be 1\n",
        "BSS=TSS=72\n",
        "WSS=0"
      ],
      "metadata": {
        "id": "FXX988VYFNNa"
      },
      "execution_count": null,
      "outputs": []
    },
    {
      "cell_type": "markdown",
      "source": [
        "# IF we only had one cluster "
      ],
      "metadata": {
        "id": "e24SNvsTK48Y"
      }
    },
    {
      "cell_type": "code",
      "source": [
        "# TSS=same as before as it is a holistic data property\n",
        "# WSS=TSS as we only have one cluster\n",
        "# BSS=0 as there is only one local mean that is the global mean \n",
        "#Thus r2 would have been 0 (BSS/TSS)"
      ],
      "metadata": {
        "id": "nzRzIR_RK2Sn"
      },
      "execution_count": null,
      "outputs": []
    },
    {
      "cell_type": "markdown",
      "source": [
        "# DISSIMILARITY MATRIX"
      ],
      "metadata": {
        "id": "IurEj-r4Msgw"
      }
    },
    {
      "cell_type": "code",
      "source": [
        "arr=df.loc[:,var_cols].values\n",
        "arr#shape = obs,vals\n",
        "obs,vals=arr.shape\n",
        "temp_1=arr.reshape(obs,1,vals)\n",
        "temp_2=arr.reshape(1,obs,vals)\n",
        "\n",
        "#for every pair of observation we will achive deviance if we computed temp_1-temp_2\n",
        "dev_arr=temp_1-temp_2\n",
        "#formulate this design and then apply any function along the given axis\n"
      ],
      "metadata": {
        "id": "On-YEkZBMr7z"
      },
      "execution_count": null,
      "outputs": []
    },
    {
      "cell_type": "code",
      "source": [
        "def deviance_square_sum(arr):\n",
        "  return sum(pow(arr,2))\n",
        "dis_arr=np.apply_along_axis(deviance_square_sum,arr=dev_arr,axis=2)\n",
        "dis_arr"
      ],
      "metadata": {
        "colab": {
          "base_uri": "https://localhost:8080/"
        },
        "id": "Y7JUSaatTEEt",
        "outputId": "3f92f115-4542-4602-e063-1fa1858565e1"
      },
      "execution_count": null,
      "outputs": [
        {
          "output_type": "execute_result",
          "data": {
            "text/plain": [
              "array([[ 0,  2,  5, 17, 73, 20, 34, 25],\n",
              "       [ 2,  0,  5,  9, 53, 10, 20, 13],\n",
              "       [ 5,  5,  0,  8, 52, 25, 37, 20],\n",
              "       [17,  9,  8,  0, 20, 13, 17,  4],\n",
              "       [73, 53, 52, 20,  0, 37, 29, 16],\n",
              "       [20, 10, 25, 13, 37,  0,  2,  5],\n",
              "       [34, 20, 37, 17, 29,  2,  0,  5],\n",
              "       [25, 13, 20,  4, 16,  5,  5,  0]])"
            ]
          },
          "metadata": {},
          "execution_count": 13
        }
      ]
    },
    {
      "cell_type": "code",
      "source": [
        "# dis_chk=np.zeros(shape=(obs,obs))\n",
        "# for i in range(len(arr)):\n",
        "#   for j in range(len(arr)):\n",
        "#     dis_chk[i,j]=sum(pow((arr[i]-arr[j]),2))\n",
        "# dis_chk-dis_arr\n"
      ],
      "metadata": {
        "id": "MQz2bBa6TMLQ"
      },
      "execution_count": null,
      "outputs": []
    },
    {
      "cell_type": "code",
      "source": [
        "df.loc[:,var_cols].to_excel('data_file.xlsx')"
      ],
      "metadata": {
        "id": "lUYuJEptTYau"
      },
      "execution_count": null,
      "outputs": []
    },
    {
      "cell_type": "markdown",
      "source": [
        "# SINGLE, COMPLTE,Average,Centroid WARD Linkage\n"
      ],
      "metadata": {
        "id": "woLbMNcwuynD"
      }
    },
    {
      "cell_type": "code",
      "source": [
        "#Single\n",
        "\n",
        "#We ought to compute distance of the test point to the nearest point withing each cluster and then assign the new point to the respective cluster\n",
        "\n",
        "#I intend to use group by and apply linkage functions\n",
        "\n",
        "\n",
        "\n",
        "def linkage(d,pivot_pt,var_cols,link='single',verbose=0):\n",
        "  def l2_norm(a,b):\n",
        "    return pow((a-b),2).sum(axis=1)\n",
        "\n",
        "  arr=d.loc[:,var_cols].values#shape=obs,var\n",
        "  #apply broadcast\n",
        "  dist=l2_norm(arr,pivot_pt)\n",
        "  if link=='single':\n",
        "    p_dist=np.min(dist)\n",
        "  elif link=='complete':\n",
        "    p_dist=np.max(dist)\n",
        "  elif link=='average':\n",
        "    p_dist=np.mean(dist)\n",
        "  elif link=='centroid':\n",
        "    centroid=np.mean(arr,axis=0).reshape(1,-1)\n",
        "    p_dist=l2_norm(centroid,pivot_pt)[0]\n",
        "  else:#WARD\n",
        "    p_dist=np.sum(dist)\n",
        "  if verbose:\n",
        "    return (p_dist,dist)\n",
        "  return p_dist\n",
        "\n",
        "\n",
        "linkage(df,np.array([5,2]),var_cols,verbose=True)\n",
        "\n"
      ],
      "metadata": {
        "colab": {
          "base_uri": "https://localhost:8080/"
        },
        "id": "_JzXyAIXX9XH",
        "outputId": "aef64c23-890c-4506-a4eb-6c7a643fab72"
      },
      "execution_count": null,
      "outputs": [
        {
          "output_type": "execute_result",
          "data": {
            "text/plain": [
              "(1, array([10,  4,  5,  1, 29, 10, 16,  5]))"
            ]
          },
          "metadata": {},
          "execution_count": 43
        }
      ]
    },
    {
      "cell_type": "code",
      "source": [
        "test_point=np.array([5,2])\n",
        "df.groupby('Cluster').apply(linkage,test_point,var_cols,'single')#Cluster 2"
      ],
      "metadata": {
        "colab": {
          "base_uri": "https://localhost:8080/"
        },
        "id": "XivWX2Vkxy5O",
        "outputId": "69daaad9-62f3-44b3-b9e7-08e2ff56cd46"
      },
      "execution_count": null,
      "outputs": [
        {
          "output_type": "execute_result",
          "data": {
            "text/plain": [
              "Cluster\n",
              "1    4\n",
              "2    1\n",
              "3    5\n",
              "dtype: int64"
            ]
          },
          "metadata": {},
          "execution_count": 44
        }
      ]
    },
    {
      "cell_type": "code",
      "source": [
        "df.groupby('Cluster').apply(linkage,test_point,var_cols,'complete')#Cluster 1"
      ],
      "metadata": {
        "colab": {
          "base_uri": "https://localhost:8080/"
        },
        "id": "bNVbAsUnyLQp",
        "outputId": "717eaa3b-2600-4ef2-e381-af8574473d11"
      },
      "execution_count": null,
      "outputs": [
        {
          "output_type": "execute_result",
          "data": {
            "text/plain": [
              "Cluster\n",
              "1    10\n",
              "2    29\n",
              "3    16\n",
              "dtype: int64"
            ]
          },
          "metadata": {},
          "execution_count": 45
        }
      ]
    },
    {
      "cell_type": "code",
      "source": [
        "df.groupby('Cluster').apply(linkage,test_point,var_cols,'average')#Cluster 1"
      ],
      "metadata": {
        "colab": {
          "base_uri": "https://localhost:8080/"
        },
        "id": "5Y6DXZu90cc4",
        "outputId": "a4b129b4-cb79-4796-894b-12d14cc497ee"
      },
      "execution_count": null,
      "outputs": [
        {
          "output_type": "execute_result",
          "data": {
            "text/plain": [
              "Cluster\n",
              "1     6.333333\n",
              "2    15.000000\n",
              "3    10.333333\n",
              "dtype: float64"
            ]
          },
          "metadata": {},
          "execution_count": 46
        }
      ]
    },
    {
      "cell_type": "code",
      "source": [
        "df.groupby('Cluster').apply(linkage,test_point,var_cols,'centroid')#Cluster 1"
      ],
      "metadata": {
        "colab": {
          "base_uri": "https://localhost:8080/"
        },
        "id": "rf-s4Vfq0jC3",
        "outputId": "53c53135-890a-4837-fa3f-e2315d405f34"
      },
      "execution_count": null,
      "outputs": [
        {
          "output_type": "execute_result",
          "data": {
            "text/plain": [
              "Cluster\n",
              "1     5.0\n",
              "2    10.0\n",
              "3     9.0\n",
              "dtype: float64"
            ]
          },
          "metadata": {},
          "execution_count": 47
        }
      ]
    },
    {
      "cell_type": "code",
      "source": [
        "df.groupby('Cluster').apply(linkage,test_point,var_cols,'ward')#Cluster 1"
      ],
      "metadata": {
        "colab": {
          "base_uri": "https://localhost:8080/"
        },
        "id": "GWawziD10law",
        "outputId": "c6d73808-d1bb-4d0b-e66d-f0ba9a49fdc8"
      },
      "execution_count": null,
      "outputs": [
        {
          "output_type": "execute_result",
          "data": {
            "text/plain": [
              "Cluster\n",
              "1    19\n",
              "2    30\n",
              "3    31\n",
              "dtype: int64"
            ]
          },
          "metadata": {},
          "execution_count": 48
        }
      ]
    },
    {
      "cell_type": "code",
      "source": [
        "#https://blogs.sas.com/content/iml/2013/03/27/compute-distance.html"
      ],
      "metadata": {
        "id": "_vPwbRvw1PYO"
      },
      "execution_count": null,
      "outputs": []
    },
    {
      "cell_type": "markdown",
      "source": [
        "pseudo F criterion --> Local max\n",
        "Suggests that the number of clusters at this local max was better to explain the data than 1 more and 1 less cluster\n",
        "\n",
        "Ans 21--> 17\n",
        "22--> 27 customers\n",
        "23--> 5\n",
        "24--> 85\n",
        "25--> .502\n",
        "\n",
        "26-->.0497\n",
        "27-->\n",
        "\n",
        "\n",
        "4,2\n",
        "\n",
        "\n",
        "\n",
        ". Masters degree, medium salary, medium concern about social status is CLUSTER 2\n",
        "\n",
        " High school diploma, low salary, unconcerned about social status is CLUSTER 1\n",
        "\n",
        " . Masters degree, high salary, low savings\n",
        " CLSUTER 4\n",
        "\n"
      ],
      "metadata": {
        "id": "5UitEzv9PS9W"
      }
    },
    {
      "cell_type": "code",
      "source": [
        "#"
      ],
      "metadata": {
        "id": "8s9CeQ3DPSM5"
      },
      "execution_count": null,
      "outputs": []
    }
  ]
}