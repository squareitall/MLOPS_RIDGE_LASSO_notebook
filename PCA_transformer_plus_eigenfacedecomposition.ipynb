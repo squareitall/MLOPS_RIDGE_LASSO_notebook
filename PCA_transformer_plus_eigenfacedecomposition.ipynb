{
  "nbformat": 4,
  "nbformat_minor": 0,
  "metadata": {
    "colab": {
      "name": "PCA_transformer_plus_eigenfacedecomposition.ipynb",
      "provenance": []
    },
    "kernelspec": {
      "name": "python3",
      "display_name": "Python 3"
    },
    "language_info": {
      "name": "python"
    }
  },
  "cells": [
    {
      "cell_type": "code",
      "execution_count": 1,
      "metadata": {
        "id": "i_DEAAXz94Av"
      },
      "outputs": [],
      "source": [
        "import numpy as np\n",
        "import pandas as pd"
      ]
    },
    {
      "cell_type": "code",
      "source": [
        "# Let there be 1000 data points with 50 sinusoidal features\n",
        "features=50\n",
        "\n",
        "\n",
        "for i in range(features):\n",
        "  w=np.random.random_integers(1)*3.14\n",
        "  t=np.sin(w*np.arange(1000)) +np.random.random(size=1000)\n",
        "  if i==0:\n",
        "    xx=t.reshape(-1,1)\n",
        "  else:\n",
        "    xx=np.concatenate([xx,t.reshape(-1,1)],axis=1)\n",
        "\n",
        "xx.shape\n",
        "\n",
        "\n",
        "import matplotlib.pyplot as plt\n",
        "\n",
        "plt.plot(xx[:,0],xx[:,1],'.')"
      ],
      "metadata": {
        "colab": {
          "base_uri": "https://localhost:8080/",
          "height": 320
        },
        "id": "btbe9jEk-KnJ",
        "outputId": "38e007f0-edb0-46cf-9268-f81844dd72cd"
      },
      "execution_count": 6,
      "outputs": [
        {
          "output_type": "stream",
          "name": "stderr",
          "text": [
            "/usr/local/lib/python3.7/dist-packages/ipykernel_launcher.py:6: DeprecationWarning: This function is deprecated. Please call randint(1, 1 + 1) instead\n",
            "  \n"
          ]
        },
        {
          "output_type": "execute_result",
          "data": {
            "text/plain": [
              "[<matplotlib.lines.Line2D at 0x7fb8846baa90>]"
            ]
          },
          "metadata": {},
          "execution_count": 6
        },
        {
          "output_type": "display_data",
          "data": {
            "image/png": "[encoded data removed]",
            "text/plain": [
              "<Figure size 432x288 with 1 Axes>"
            ]
          },
          "metadata": {
            "needs_background": "light"
          }
        }
      ]
    },
    {
      "cell_type": "code",
      "source": [
        "class PCA_scratch():\n",
        "  def __init__(self,n_components,explainability=None):\n",
        "    self.n_components=n_components\n",
        "    self.explainability=explainability\n",
        "    self.projection=[None]\n",
        "\n",
        "  def fit(self,x):\n",
        "    x=x-np.mean(x,axis=0)#Centring\n",
        "    x_scaled=x/np.var(x,axis=0)#Scaling\n",
        "\n",
        "    x_corr=np.corrcoef(np.transpose(x_scaled))\n",
        "\n",
        "    eig_val,eig_vec=np.linalg.eig(x_corr)\n",
        "\n",
        "    if self.explainability:\n",
        "      e_ratio=0\n",
        "      eig_val=np.sort(eig_val)\n",
        "\n",
        "      for i,e in enumerate(eig_val):\n",
        "        e_ratio+=i\n",
        "        if e_ratio>=self.explainability:\n",
        "          self.n_components=e\n",
        "          break\n",
        "    self.projection=eig_vec[:,:self.n_components] \n",
        "    #We will save projection of features(x.shape[1]) for top n basis/eigenvector\n",
        "    #Each Column of the eig_vec is the eigenvector\n",
        "\n",
        "      \n",
        "    #These projections will help in transforming test or train data across the new basis diemnsion\n",
        "    return\n",
        "      \n",
        "  def transform(self,x):\n",
        "    if not any(self.projection[0]):\n",
        "      self.fit(x)\n",
        "    \n",
        "    assert(x.shape[1]==self.projection.shape[0])\n",
        "\n",
        "    return x@self.projection\n",
        "\n",
        "\n",
        "\n",
        "\n",
        "\n",
        "\n",
        "\n",
        "\n",
        "\n",
        "\n",
        "  \n"
      ],
      "metadata": {
        "id": "SfoIDomRBTuH"
      },
      "execution_count": 29,
      "outputs": []
    },
    {
      "cell_type": "code",
      "source": [
        "x_train=xx[:800,:]\n",
        "x_test=xx[800:,:]\n",
        "\n",
        "print(f'x has got {xx.shape[1]} features and there are {xx.shape[0]} instances of x type')\n",
        "pca=PCA_scratch(n_components=5)\n",
        "pca.fit(x_train)\n",
        "\n",
        "x_transformed=pca.transform(x_test)\n",
        "\n",
        "# pca.projection.shape"
      ],
      "metadata": {
        "colab": {
          "base_uri": "https://localhost:8080/"
        },
        "id": "o1MONTXGLiHF",
        "outputId": "c147e5f9-96bd-4369-adc5-69c053fe5990"
      },
      "execution_count": 31,
      "outputs": [
        {
          "output_type": "stream",
          "name": "stdout",
          "text": [
            "x has got 50 features and there are 1000 instances of x type\n"
          ]
        }
      ]
    },
    {
      "cell_type": "markdown",
      "source": [
        "# Rough Work"
      ],
      "metadata": {
        "id": "vxN8ZUjYEOwM"
      }
    },
    {
      "cell_type": "code",
      "source": [
        "temp=xx[:,:5]\n",
        "corr=np.corrcoef(np.transpose(temp))\n",
        "print(corr.shape)\n",
        "\n",
        "np.linalg.eig(corr)#Each column is a eigenvector\n",
        "\n"
      ],
      "metadata": {
        "colab": {
          "base_uri": "https://localhost:8080/"
        },
        "id": "40e-0hloEOST",
        "outputId": "869d94ca-953d-47fe-ab89-c8aba79e0919"
      },
      "execution_count": 11,
      "outputs": [
        {
          "output_type": "stream",
          "name": "stdout",
          "text": [
            "(5, 5)\n"
          ]
        },
        {
          "output_type": "execute_result",
          "data": {
            "text/plain": [
              "(array([4.43700851, 0.15067646, 0.13234036, 0.13860583, 0.14136884]),\n",
              " array([[-0.44659901,  0.60203873,  0.32087074,  0.45858269,  0.35333069],\n",
              "        [-0.44759651, -0.23488203, -0.42406006,  0.55743247, -0.50391458],\n",
              "        [-0.44733887,  0.44948406, -0.44627952, -0.61953056, -0.12193642],\n",
              "        [-0.44638312, -0.5617675 , -0.15436614, -0.10610387,  0.67087439],\n",
              "        [-0.44814812, -0.25448213,  0.70300833, -0.28964602, -0.39533097]]))"
            ]
          },
          "metadata": {},
          "execution_count": 11
        }
      ]
    },
    {
      "cell_type": "code",
      "source": [
        "any([None])"
      ],
      "metadata": {
        "colab": {
          "base_uri": "https://localhost:8080/",
          "height": 171
        },
        "id": "Capc5vLuM5oi",
        "outputId": "e282cd42-1464-488e-9ce5-3f7bcdc9c8dc"
      },
      "execution_count": 26,
      "outputs": [
        {
          "output_type": "error",
          "ename": "TypeError",
          "evalue": "ignored",
          "traceback": [
            "\u001b[0;31m---------------------------------------------------------------------------\u001b[0m",
            "\u001b[0;31mTypeError\u001b[0m                                 Traceback (most recent call last)",
            "\u001b[0;32m<ipython-input-26-18fce1a05bf1>\u001b[0m in \u001b[0;36m<module>\u001b[0;34m()\u001b[0m\n\u001b[0;32m----> 1\u001b[0;31m \u001b[0many\u001b[0m\u001b[0;34m(\u001b[0m\u001b[0;34m[\u001b[0m\u001b[0;32mNone\u001b[0m\u001b[0;34m]\u001b[0m\u001b[0;34m)\u001b[0m\u001b[0;34m,\u001b[0m\u001b[0many\u001b[0m\u001b[0;34m(\u001b[0m\u001b[0;32mNone\u001b[0m\u001b[0;34m)\u001b[0m\u001b[0;34m\u001b[0m\u001b[0;34m\u001b[0m\u001b[0m\n\u001b[0m",
            "\u001b[0;31mTypeError\u001b[0m: 'NoneType' object is not iterable"
          ]
        }
      ]
    },
    {
      "cell_type": "code",
      "source": [
        ""
      ],
      "metadata": {
        "id": "NmQgj86tEdRM"
      },
      "execution_count": null,
      "outputs": []
    }
  ]
}